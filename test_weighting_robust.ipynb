{
 "cells": [
  {
   "cell_type": "code",
   "execution_count": 1,
   "metadata": {},
   "outputs": [
    {
     "name": "stdout",
     "output_type": "stream",
     "text": [
      "You appear to be importing analysisUtils into python (not CASA). version =  3.10.5\n",
      "CASAPATH is not defined, so I am skipping a lot of imports\n"
     ]
    }
   ],
   "source": [
    "import sys\n",
    "sys.path.append(\"/home/yamato/Application/reduction_tools/\")\n",
    "import reduction_utils_mpi as utils\n",
    "import casatasks\n",
    "import casatools\n",
    "from linedictionary import line_dict\n",
    "from diskdictionary import disk_dict\n",
    "import shutil\n",
    "import os\n",
    "import numpy as np\n",
    "import analysis_utils as au\n",
    "import matplotlib.pyplot as plt\n",
    "from astropy.convolution import convolve_fft\n",
    "from scipy import optimize\n",
    "import subprocess\n",
    "\n",
    "%matplotlib widget\n",
    "\n",
    "tb = casatools.table()\n",
    "ia = casatools.image()\n",
    "\n",
    "def rad2arcsec(val):\n",
    "    return val * 180 * 3600 / np.pi\n",
    "\n",
    "imagename = \"taper_test_robust\"\n",
    "vis = \"./data/measurement_set/MWC_480_continuum.ms/\"\n",
    "weighting = \"briggs\"\n",
    "robust = 0.5\n",
    "cellsize = \"0.01arcsec\"\n",
    "imsize = utils.get_imsize(vis=vis, field=\"MWC_480\", cellsize=cellsize)"
   ]
  },
  {
   "cell_type": "code",
   "execution_count": 2,
   "metadata": {},
   "outputs": [],
   "source": [
    "def get_beam_info(imagename):\n",
    "    ia.open(imagename)\n",
    "    beam = ia.summary()[\"restoringbeam\"]\n",
    "    ia.close()\n",
    "\n",
    "    bmaj = beam[\"major\"][\"value\"]\n",
    "    bmin = beam[\"minor\"][\"value\"]\n",
    "    bpa = beam[\"positionangle\"][\"value\"]\n",
    "\n",
    "    return bmaj, bmin, bpa\n",
    "\n",
    "def get_xy_1D_coord(psf, imsize):\n",
    "    peak_x, peak_y = np.unravel_index(np.argmax(psf), psf.shape)\n",
    "    x = -(np.arange(imsize) - peak_x)\n",
    "    y = np.arange(imsize) - peak_y\n",
    "    return x, y\n",
    "\n",
    "def get_xy_2D_coord(psf, imsize):\n",
    "    x, y = get_xy_1D_coord(psf, imsize)\n",
    "    xx, yy = np.meshgrid(x, y, indexing=\"ij\") # indexing=\"ij\" is needed to match the axis order to that of casa image\n",
    "    return xx, yy\n",
    "\n",
    "def rotate_coord(x, y, theta):\n",
    "    rotangle = np.deg2rad(theta)\n",
    "    x_rot = x * np.cos(rotangle) + y * np.sin(rotangle)\n",
    "    y_rot = x * np.sin(rotangle) - y * np.cos(rotangle)\n",
    "    return x_rot, y_rot\n",
    "\n",
    "def Gaussian2D(x, y, sigma_x, sigma_y, PA):\n",
    "    theta = 90. - PA # from negative x to positive y\n",
    "    x_rot, y_rot = rotate_coord(x, y, theta)\n",
    "    g = 1.*np.exp(-((x_rot/sigma_x)**2/2. + (y_rot/sigma_y)**2/2.))\n",
    "    return g\n",
    "\n",
    "def get_nulled_psf(psf_array, r, theta, ntheta=24):\n",
    "\n",
    "    # azimuthal coordinate\n",
    "    da = 2 * np.pi / ntheta\n",
    "    azim = np.arange(-np.pi, np.pi, da)\n",
    "\n",
    "    nulled_psf = psf_array.copy()\n",
    "\n",
    "    for a in azim:\n",
    "        # some overlapping azimuth: see https://github.com/MPoL-dev/MPoL/blob/main/src/mpol/gridding.py#L441\n",
    "        wedge = (theta >= a - 0.3 * da) & (theta <= a + 1.3 * da)\n",
    "        wedge_is_neg = wedge & (psf_array < 0)\n",
    "        first_null = np.min(r[wedge_is_neg])\n",
    "        nulled_psf[wedge & (r >= first_null)] = 0.0\n",
    "\n",
    "    return nulled_psf\n",
    "\n",
    "def calc_JvM_epsilon(xx, yy, target_beam_array, tapered_psf_array):\n",
    "    r, theta = np.sqrt(xx**2 + yy**2), np.arctan2(yy, xx)\n",
    "    epsilon = np.sum(target_beam_array) / np.sum(get_nulled_psf(tapered_psf_array, r, theta))\n",
    "    print(\"JvM epsilon: {:.4f}\".format(epsilon))\n",
    "    return epsilon\n",
    "\n",
    "def calc_uvtaper(vis, imagename, field=\"\", specmode=\"mfs\", weighting=\"superuniform\", cellsize=\"0.1arcsec\", imsize=None, target_beam=(0.1, 0.1, 0.0), **tclean_kwargs):\n",
    "    if not isinstance(target_beam, (tuple, list)):\n",
    "        target_beam = (target_beam, target_beam, 0.0)\n",
    "    target_bmaj, target_bmin, target_bpa = target_beam\n",
    "\n",
    "    print(\"Starting to estimate the uvtaper which achieve the target beam of {:.4f} arcsec x {:.4f} arcsec (P.A. = {:.4f} deg)\".format(*target_beam))\n",
    "\n",
    "    # calculate image size\n",
    "    if imsize is None:\n",
    "        imsize = utils.get_imsize(vis=vis, field=field, cellsize=cellsize)\n",
    "    \n",
    "    print(f\"Pixel size: {cellsize}\")\n",
    "    print(f\"Image size: {imsize}\")\n",
    "    dpix = float(cellsize.replace(\"arcsec\", \"\"))\n",
    "\n",
    "    # calculate and fit psf\n",
    "    msg = \"Calculating and fitting PSF with the original weighting scheme (weighting = {:s}\".format(weighting)\n",
    "    if \"briggs\" in weighting:\n",
    "        robust = tclean_kwargs.get(\"robust\", 0.5)\n",
    "        msg += f\", robust = {robust}\"\n",
    "    msg += \")\"\n",
    "    print(msg)\n",
    "\n",
    "    for ext in [\".psf\", \".pb\", \".sumwt\"]:\n",
    "        if os.path.exists(imagename + ext):\n",
    "            shutil.rmtree(imagename + ext)\n",
    "    casatasks.tclean(\n",
    "        vis=vis,\n",
    "        imagename=imagename,\n",
    "        specmode=specmode,\n",
    "        weighting=weighting,\n",
    "        cell=cellsize,\n",
    "        imsize=imsize,\n",
    "        calcres=False,\n",
    "        calcpsf=True,\n",
    "        **tclean_kwargs\n",
    "    )\n",
    "    print(\"Done.\")\n",
    "\n",
    "    # get the original psf array\n",
    "    ia.open(imagename + \".psf\")\n",
    "    psf_orig = ia.getregion().squeeze()\n",
    "    ia.close()\n",
    "    \n",
    "    # fetch beam info\n",
    "    bmaj, bmin, bpa = get_beam_info(imagename + \".psf\")\n",
    "    print(\n",
    "        \"Restoring beam shape: {:.4f} arcsec x {:.4f} arcsec (P.A. = {:.4f} deg)\".format(\n",
    "            bmaj, bmin, bpa\n",
    "        )\n",
    "    )\n",
    "\n",
    "    # window out the central region for computational efficiency while keeping enough region for convolution to work well\n",
    "    print(\"Windowing out the central region for computational efficiency\")\n",
    "    window_factor = 20 # factor to determined the window; multiplied to the target major axis\n",
    "    start_idx = int(imsize*0.5) - int(target_bmaj * window_factor / dpix)\n",
    "    end_idx = int(imsize*0.5) + int(target_bmaj * window_factor / dpix)\n",
    "    psf_windowed = psf_orig[start_idx:end_idx, start_idx:end_idx]\n",
    "    imsize_windowed = psf_windowed.shape[0]\n",
    "    print(f\"Image size of windowed psf: {imsize_windowed}\")\n",
    "\n",
    "    # minimizing the metric\n",
    "    xx, yy = get_xy_2D_coord(psf_windowed, imsize_windowed)\n",
    "    target_beam = Gaussian2D(xx, yy, sigma_x=au.FWHM_to_sigma(target_bmaj/dpix), sigma_y=au.FWHM_to_sigma(target_bmin/dpix), PA=target_bpa)\n",
    "    psf_cutoff = tclean_kwargs.get(\"psf_cutoff\", 0.35)\n",
    "\n",
    "    def beam_chi2(params):\n",
    "        tmaj, tmin, tpa = params\n",
    "\n",
    "        kernel = Gaussian2D(xx, yy, sigma_x=au.FWHM_to_sigma(tmaj/dpix), sigma_y=au.FWHM_to_sigma(tmin/dpix), PA=tpa)\n",
    "        tapered_beam = convolve_fft(psf_windowed, kernel=kernel)\n",
    "        tapered_beam /= np.max(tapered_beam)\n",
    "\n",
    "        metric = np.sum((target_beam[tapered_beam > psf_cutoff] - tapered_beam[tapered_beam > psf_cutoff])**2)\n",
    "\n",
    "        return metric\n",
    "\n",
    "    print(\"Calculating uvtaper parameter\")\n",
    "    x0 = (target_bmaj, target_bmin, target_bpa)\n",
    "    res = optimize.minimize(beam_chi2, x0=x0, method=\"Nelder-Mead\")\n",
    "    uvtaper = [str(res.x[0]) + \"arcsec\", str(res.x[1]) + \"arcsec\", str(res.x[2]) + \"deg\"]\n",
    "    print(f\"Done. Best-fit uvtaper parameter: \" + str(uvtaper))\n",
    "\n",
    "    # check JvM epsilon\n",
    "    print(\"Calculating the resulting beam shape after uvtaper\")\n",
    "    for ext in [\".psf\", \".pb\", \".sumwt\"]:\n",
    "        shutil.rmtree(imagename + ext)\n",
    "    casatasks.tclean(\n",
    "        vis=vis,\n",
    "        imagename=imagename,\n",
    "        specmode=specmode,\n",
    "        weighting=weighting,\n",
    "        uvtaper=uvtaper,\n",
    "        cell=cellsize,\n",
    "        imsize=imsize,\n",
    "        calcres=False,\n",
    "        calcpsf=True,\n",
    "        **tclean_kwargs\n",
    "    )\n",
    "    print(\"Done.\")\n",
    "\n",
    "    ia.open(imagename + \".psf\")\n",
    "    psf_tapered = ia.getregion().squeeze()\n",
    "    ia.close()\n",
    "\n",
    "     # fetch beam info\n",
    "    bmaj, bmin, bpa = get_beam_info(imagename + \".psf\")\n",
    "    print(\n",
    "        \"Restoring beam shape after uvtaper: {:.4f} arcsec x {:.4f} arcsec (P.A. = {:.4f} deg)\".format(\n",
    "            bmaj, bmin, bpa\n",
    "        )\n",
    "    )\n",
    "\n",
    "    xx, yy = get_xy_2D_coord(psf_tapered, imsize)\n",
    "    target_beam = Gaussian2D(xx, yy, sigma_x=au.FWHM_to_sigma(target_bmaj/dpix), sigma_y=au.FWHM_to_sigma(target_bmin/dpix), PA=target_bpa)\n",
    "    eps = calc_JvM_epsilon(xx, yy, target_beam_array=target_beam, tapered_psf_array=psf_tapered)\n",
    "    if np.abs(eps - 1.0) > 0.1:\n",
    "        print(\"Warning: dirty psf is deviated from the CLEAN beam by > 10%\")\n",
    "\n",
    "    return uvtaper\n",
    "\n",
    "\n",
    "    \n"
   ]
  },
  {
   "cell_type": "code",
   "execution_count": 4,
   "metadata": {},
   "outputs": [
    {
     "name": "stdout",
     "output_type": "stream",
     "text": [
      "Starting to estimate the uvtaper which achieve the target beam of 0.3200 arcsec x 0.2556 arcsec (P.A. = 148.0000 deg)\n",
      "Pixel size: 0.01arcsec\n",
      "Image size: 3456\n",
      "Calculating and fitting PSF with the original weighting scheme (weighting = briggs, robust = 0.5)\n"
     ]
    },
    {
     "name": "stderr",
     "output_type": "stream",
     "text": [
      "\n",
      "0%....10....20....30....40....50....60....70....80....90....100%\n"
     ]
    },
    {
     "name": "stdout",
     "output_type": "stream",
     "text": [
      "Done.\n",
      "Restoring beam shape: 0.3146 arcsec x 0.2074 arcsec (P.A. = 8.2741 deg)\n",
      "Windowing out the central region for computational efficiency\n",
      "Image size of windowed psf: 1280\n",
      "Calculating uvtaper parameter\n",
      "Done. Best-fit uvtaper parameter: ['0.20017929935271894arcsec', '0.0009954056306741878arcsec', '301.6940457624971deg']\n",
      "Calculating the resulting beam shape after uvtaper\n"
     ]
    },
    {
     "name": "stderr",
     "output_type": "stream",
     "text": [
      "\n",
      "0%....10....20....30....40....50....60....70....80....90....100%\n"
     ]
    },
    {
     "name": "stdout",
     "output_type": "stream",
     "text": [
      "Done.\n",
      "Restoring beam shape after uvtaper: 0.3367 arcsec x 0.2608 arcsec (P.A. = -17.1913 deg)\n",
      "JvM epsilon: 0.8238\n",
      "Warning: dirty psf is deviated from the CLEAN beam by > 10%\n"
     ]
    },
    {
     "data": {
      "text/plain": [
       "['0.20017929935271894arcsec',\n",
       " '0.0009954056306741878arcsec',\n",
       " '301.6940457624971deg']"
      ]
     },
     "execution_count": 4,
     "metadata": {},
     "output_type": "execute_result"
    }
   ],
   "source": [
    "incl = disk_dict[\"MWC_480\"][\"incl\"]\n",
    "PA = disk_dict[\"MWC_480\"][\"PA\"]\n",
    "target_bmaj = 0.32\n",
    "\n",
    "uvtaper = calc_uvtaper(\n",
    "    vis=vis,\n",
    "    imagename=imagename,\n",
    "    field=\"MWC_480\",\n",
    "    specmode=\"mfs\",\n",
    "    weighting=weighting,\n",
    "    robust=robust,\n",
    "    cellsize=cellsize,\n",
    "    target_beam=(target_bmaj, target_bmaj * np.cos(np.deg2rad(incl)), PA),\n",
    ")\n",
    "uvtaper"
   ]
  },
  {
   "cell_type": "code",
   "execution_count": null,
   "metadata": {},
   "outputs": [],
   "source": [
    "# calculate uvtaper in klambda; see Eq. 27/28 in Czekala+21\n",
    "a = 1e-3 * (3600 * 180 / np.pi) * 4 * np.log(2) / (np.pi * res.x[0])\n",
    "b = 1e-3 * (3600 * 180 / np.pi) * 4 * np.log(2) / (np.pi * res.x[1])\n",
    "phi = res.x[2]\n",
    "uvtaper = [f\"{a}klambda\", f\"{b}klambda\", f\"{phi}deg\"]"
   ]
  },
  {
   "cell_type": "code",
   "execution_count": 6,
   "metadata": {},
   "outputs": [
    {
     "name": "stdout",
     "output_type": "stream",
     "text": [
      "Theoretical estimates of image sensitivity\n",
      "# ./data/measurement_set/MWC_480_continuum.ms/\n",
      "# specmode = 'mfs'\n",
      "# spw = ''\n",
      "(True, 1.3184961301317944e-05, 1.1354272877371416)\n",
      "# Briggs sensitivity with robust = 0.5: 1.3184961301317944e-05 Jy\n",
      "# Relative to natural weighting: 1.1354272877371416\n",
      "### Averaged sensitivity over 1 measurement sets: 1.3184961301317944e-05 Jy\n"
     ]
    },
    {
     "data": {
      "text/plain": [
       "1.3184961301317944e-05"
      ]
     },
     "execution_count": 6,
     "metadata": {},
     "output_type": "execute_result"
    }
   ],
   "source": [
    "rms = utils.calc_sensitivity(vis, cellsize=\"0.02arcsec\", imsize=imsize, weighting=\"briggs\", robust=0.5)\n",
    "rms"
   ]
  },
  {
   "cell_type": "code",
   "execution_count": 8,
   "metadata": {},
   "outputs": [
    {
     "name": "stdout",
     "output_type": "stream",
     "text": [
      "Theoretical estimates of image sensitivity\n",
      "# ./data/measurement_set/MWC_480_continuum.ms/\n",
      "# specmode = 'mfs'\n",
      "# spw = ''\n",
      "# uvtaper = [0.28209324790806867arcsec, 0.2250547197437648arcsec, 138.5533403707148deg]\n",
      "(True, 1.7363699031228853e-05, 1.4952806645053645)\n",
      "# Briggs sensitivity with robust = 0.5: 1.7363699031228853e-05 Jy\n",
      "# Relative to natural weighting: 1.4952806645053645\n",
      "### Averaged sensitivity over 1 measurement sets: 1.7363699031228853e-05 Jy\n"
     ]
    },
    {
     "name": "stderr",
     "output_type": "stream",
     "text": [
      "\n",
      "0%....10....20....30....40....50....60....70....80....90....100%\n",
      "\n",
      "0%....10....20....30....40....50....60....70....80....90....100%\n",
      "\n",
      "0%....10....20....30....40....50....60....70....80....90....100%\n",
      "\n",
      "0%....10....20....30....40....50....60....70....80....90....100%\n",
      "\n",
      "0%....10....20....30....40....50....60....70....80....90....100%\n",
      "\n",
      "0%....10....20....30....40....50....60....70....80....90....100%\n"
     ]
    },
    {
     "data": {
      "text/plain": [
       "{'cleanstate': 'running',\n",
       " 'cyclefactor': 1.0,\n",
       " 'cycleiterdone': 0,\n",
       " 'cycleniter': 100000,\n",
       " 'cyclethreshold': 3.470542424111045e-06,\n",
       " 'interactiveiterdone': 5317,\n",
       " 'interactivemode': False,\n",
       " 'interactiveniter': 0,\n",
       " 'interactivethreshold': 0.0,\n",
       " 'iterdone': 5317,\n",
       " 'loopgain': 0.10000000149011612,\n",
       " 'maxpsffraction': 0.800000011920929,\n",
       " 'maxpsfsidelobe': 0.03709821030497551,\n",
       " 'minpsffraction': 0.05000000074505806,\n",
       " 'niter': 100000,\n",
       " 'nmajordone': 5,\n",
       " 'nsigma': 0.0,\n",
       " 'stopcode': 2,\n",
       " 'summarymajor': array([   0,  108, 1167, 5167, 5317]),\n",
       " 'summaryminor': {0: {0: {0: {'iterDone': [108.0, 1059.0, 4000.0, 150.0],\n",
       "     'peakRes': [0.00711461529135704,\n",
       "      0.0003556274459697306,\n",
       "      0.0004322105669416487,\n",
       "      6.941087485756725e-05],\n",
       "     'modelFlux': [0.4143482446670532,\n",
       "      0.5303595662117004,\n",
       "      0.5383681058883667,\n",
       "      0.5384252071380615],\n",
       "     'cycleThresh': [0.0071335299871861935,\n",
       "      0.0003557256131898612,\n",
       "      6.945479253772646e-05,\n",
       "      6.945479253772646e-05]}}}},\n",
       " 'threshold': 6.945479253772646e-05,\n",
       " 'stopDescription': 'threshold'}"
      ]
     },
     "execution_count": 8,
     "metadata": {},
     "output_type": "execute_result"
    }
   ],
   "source": [
    "# tclean\n",
    "scales = [0, 10, 30]\n",
    "deconvolver = \"mtmfs\"\n",
    "nterms = 2\n",
    "\n",
    "# modified from MWC480_reduction_v2.py\n",
    "mask_semimaj = 2.5\n",
    "disk_mask = \"ellipse[[{:s}, {:s}], [{:.1f}arcsec, {:.1f}arcsec], {:.1f}deg]\".format(\n",
    "\t\"04h58m46.27936s\", \"+29d50m36.398586s\", mask_semimaj, mask_semimaj * np.cos(np.deg2rad(incl)), PA\n",
    ")\n",
    "\n",
    "rms = utils.calc_sensitivity(vis, cellsize=cellsize, imsize=imsize, weighting=weighting, uvtaper=uvtaper)\n",
    "\n",
    "for ext in [\".alpha*\", \".image*\", \".mask\", \".model*\", \".pb*\", \".psf*\", \".residual*\", \".sumwt*\"]:\n",
    "    os.system(\"rm -r \" + imagename + ext)\n",
    "    \n",
    "casatasks.tclean(\n",
    "    vis=vis,\n",
    "    imagename=imagename,\n",
    "    imsize=imsize,\n",
    "    cell=cellsize,\n",
    "    specmode=\"mfs\",\n",
    "    deconvolver=deconvolver,\n",
    "    scales=scales,\n",
    "    weighting=weighting,\n",
    "    nterms=nterms,\n",
    "    niter=100000,\n",
    "    threshold=f\"{rms*4}Jy\",\n",
    "    usemask=\"user\",\n",
    "    mask=disk_mask,\n",
    "    uvtaper=uvtaper,\n",
    "    # nsigma=3.0\n",
    ")"
   ]
  },
  {
   "cell_type": "code",
   "execution_count": 21,
   "metadata": {},
   "outputs": [
    {
     "data": {
      "text/plain": [
       "1.7363699031228853e-05"
      ]
     },
     "execution_count": 21,
     "metadata": {},
     "output_type": "execute_result"
    }
   ],
   "source": [
    "rms"
   ]
  },
  {
   "cell_type": "code",
   "execution_count": 24,
   "metadata": {},
   "outputs": [
    {
     "name": "stdout",
     "output_type": "stream",
     "text": [
      "/bin/bash: carta: コマンドが見つかりません\n"
     ]
    }
   ],
   "source": []
  },
  {
   "cell_type": "code",
   "execution_count": null,
   "metadata": {},
   "outputs": [],
   "source": []
  }
 ],
 "metadata": {
  "kernelspec": {
   "display_name": ".venv",
   "language": "python",
   "name": "python3"
  },
  "language_info": {
   "codemirror_mode": {
    "name": "ipython",
    "version": 3
   },
   "file_extension": ".py",
   "mimetype": "text/x-python",
   "name": "python",
   "nbconvert_exporter": "python",
   "pygments_lexer": "ipython3",
   "version": "3.10.5"
  }
 },
 "nbformat": 4,
 "nbformat_minor": 2
}
