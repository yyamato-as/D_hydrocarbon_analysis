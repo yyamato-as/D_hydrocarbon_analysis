{
 "cells": [
  {
   "cell_type": "markdown",
   "metadata": {},
   "source": [
    "# Line Table"
   ]
  },
  {
   "cell_type": "code",
   "execution_count": 2,
   "metadata": {},
   "outputs": [
    {
     "name": "stdout",
     "output_type": "stream",
     "text": [
      "[(261990451556.2, 262011251617.11493), (262051174355.7, 262083343248.638), (288483630109.3, 288504608871.22003), (288539280776.1, 288560263584.97766)]\n",
      "Reading the LAMDA file ./data/spectroscopy/C2H_hfs.dat\n",
      "Done.\n",
      "Reading the LAMDA file ./data/spectroscopy/C2D_hfs.dat\n",
      "Done.\n"
     ]
    },
    {
     "data": {
      "text/plain": [
       "{'C2H': [<specdata.RadiativeTransition at 0x7fec920c51b0>,\n",
       "  <specdata.RadiativeTransition at 0x7fec920c5240>,\n",
       "  <specdata.RadiativeTransition at 0x7fec920c52d0>,\n",
       "  <specdata.RadiativeTransition at 0x7fec920c5360>,\n",
       "  <specdata.RadiativeTransition at 0x7fec920c5390>],\n",
       " 'C2D': [<specdata.RadiativeTransition at 0x7fec920c5780>,\n",
       "  <specdata.RadiativeTransition at 0x7fec920c57b0>,\n",
       "  <specdata.RadiativeTransition at 0x7fec920c57e0>,\n",
       "  <specdata.RadiativeTransition at 0x7fec920c4070>,\n",
       "  <specdata.RadiativeTransition at 0x7fec920c4040>,\n",
       "  <specdata.RadiativeTransition at 0x7fec920c40a0>,\n",
       "  <specdata.RadiativeTransition at 0x7fec920c5b40>,\n",
       "  <specdata.RadiativeTransition at 0x7fec920c4160>,\n",
       "  <specdata.RadiativeTransition at 0x7fec920c73a0>,\n",
       "  <specdata.RadiativeTransition at 0x7fec920c7370>]}"
      ]
     },
     "execution_count": 2,
     "metadata": {},
     "output_type": "execute_result"
    }
   ],
   "source": [
    "# line table\n",
    "from specdata import SpectroscopicData\n",
    "from qdisk.classes import FitsImage\n",
    "\n",
    "source = \"MWC_480\"\n",
    "species = [\"C2H\", \"C2D\"]\n",
    "lines = [\"C2H_3-2_fs1\", \"C2H_3-2_fs2\", \"C2D_4-3_fs1\", \"C2D_4-3_fs2\"]\n",
    "\n",
    "# frequency ranges\n",
    "freq_ranges = []\n",
    "for line in lines:\n",
    "    imagename = f\"./data/image/{source}_{line}_hybrid.image.pbcor.fits\"\n",
    "    image = FitsImage(imagename, skipdata=True)\n",
    "    freq_ranges.append((image.nu.min(), image.nu.max()))\n",
    "\n",
    "transitions = {}\n",
    "for s in species:\n",
    "    filename = f\"./data/spectroscopy/{s}_hfs.dat\"\n",
    "    specdata = SpectroscopicData()\n",
    "    specdata.read_LAMDA_file(filename=filename, QNs=[\"N\", \"J\", \"F\"])\n",
    "\n",
    "    # select data\n",
    "    restfreqs = [trans.restfreq for trans in specdata.radiative.transitions]\n",
    "    indices = []\n",
    "    for nurange in freq_ranges:\n",
    "        numin, numax = nurange\n",
    "        idx = [i for i, nu in enumerate(restfreqs) if (nu >= numin*1e-6) and (nu <= numax*1e-6)]\n",
    "        indices.extend(idx)\n",
    "    trans = [trans for i, trans in enumerate(specdata.radiative.transitions) if i in indices]\n",
    "    transitions[s] = trans\n",
    "transitions"
   ]
  },
  {
   "cell_type": "code",
   "execution_count": null,
   "metadata": {},
   "outputs": [],
   "source": []
  }
 ],
 "metadata": {
  "kernelspec": {
   "display_name": ".venv",
   "language": "python",
   "name": "python3"
  },
  "language_info": {
   "codemirror_mode": {
    "name": "ipython",
    "version": 3
   },
   "file_extension": ".py",
   "mimetype": "text/x-python",
   "name": "python",
   "nbconvert_exporter": "python",
   "pygments_lexer": "ipython3",
   "version": "3.10.5"
  }
 },
 "nbformat": 4,
 "nbformat_minor": 2
}
