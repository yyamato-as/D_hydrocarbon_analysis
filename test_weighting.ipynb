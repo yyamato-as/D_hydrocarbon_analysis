{
 "cells": [
  {
   "cell_type": "code",
   "execution_count": 6,
   "metadata": {},
   "outputs": [],
   "source": [
    "import sys\n",
    "sys.path.append(\"/home/yamato/Application/reduction_tools/\")\n",
    "import reduction_utils_mpi as utils\n",
    "import casatasks\n",
    "import casatools\n",
    "from linedictionary import line_dict\n",
    "from diskdictionary import disk_dict\n",
    "import shutil\n",
    "import os\n",
    "import numpy as np\n",
    "import analysis_utils as au\n",
    "import matplotlib.pyplot as plt\n",
    "from astropy.convolution import convolve_fft\n",
    "from scipy import optimize\n",
    "import subprocess\n",
    "\n",
    "%matplotlib widget\n",
    "\n",
    "tb = casatools.table()\n",
    "ia = casatools.image()\n",
    "\n",
    "def rad2arcsec(val):\n",
    "    return val * 180 * 3600 / np.pi\n",
    "\n",
    "imagename = \"taper_test\"\n",
    "vis = \"./data/measurement_set/MWC_480_continuum.ms/\"\n",
    "weighting = \"superuniform\"\n",
    "cellsize = \"0.02arcsec\"\n",
    "imsize = utils.get_imsize(vis=vis, field=\"MWC_480\", cellsize=cellsize)"
   ]
  },
  {
   "cell_type": "code",
   "execution_count": 2,
   "metadata": {},
   "outputs": [],
   "source": [
    "def get_beam_info(imagename):\n",
    "    ia.open(imagename)\n",
    "    beam = ia.summary()[\"restoringbeam\"]\n",
    "    ia.close()\n",
    "\n",
    "    bmaj = beam[\"major\"][\"value\"]\n",
    "    bmin = beam[\"minor\"][\"value\"]\n",
    "    bpa = beam[\"positionangle\"][\"value\"]\n",
    "\n",
    "    return bmaj, bmin, bpa\n",
    "\n",
    "def get_xy_1D_coord(psf, imsize):\n",
    "    peak_x, peak_y = np.unravel_index(np.argmax(psf), psf.shape)\n",
    "    x = -(np.arange(imsize) - peak_x)\n",
    "    y = np.arange(imsize) - peak_y\n",
    "    return x, y\n",
    "\n",
    "def get_xy_2D_coord(psf, imsize):\n",
    "    x, y = get_xy_1D_coord(psf, imsize)\n",
    "    xx, yy = np.meshgrid(x, y, indexing=\"ij\") # indexing=\"ij\" is needed to match the axis order to that of casa image\n",
    "    return xx, yy\n",
    "\n",
    "def rotate_coord(x, y, theta):\n",
    "    rotangle = np.deg2rad(theta)\n",
    "    x_rot = x * np.cos(rotangle) + y * np.sin(rotangle)\n",
    "    y_rot = x * np.sin(rotangle) - y * np.cos(rotangle)\n",
    "    return x_rot, y_rot\n",
    "\n",
    "def Gaussian2D(x, y, sigma_x, sigma_y, PA):\n",
    "    theta = 90. - PA # from negative x to positive y\n",
    "    x_rot, y_rot = rotate_coord(x, y, theta)\n",
    "    g = 1.*np.exp(-((x_rot/sigma_x)**2/2. + (y_rot/sigma_y)**2/2.))\n",
    "    return g\n",
    "\n",
    "def get_nulled_psf(psf_array, r, theta, ntheta=24):\n",
    "\n",
    "    # azimuthal coordinate\n",
    "    da = 2 * np.pi / ntheta\n",
    "    azim = np.arange(-np.pi, np.pi, da)\n",
    "\n",
    "    nulled_psf = psf_array.copy()\n",
    "\n",
    "    for a in azim:\n",
    "        # some overlapping azimuth: see https://github.com/MPoL-dev/MPoL/blob/main/src/mpol/gridding.py#L441\n",
    "        wedge = (theta >= a - 0.3 * da) & (theta <= a + 1.3 * da)\n",
    "        wedge_is_neg = wedge & (psf_array < 0)\n",
    "        first_null = np.min(r[wedge_is_neg])\n",
    "        nulled_psf[wedge & (r >= first_null)] = 0.0\n",
    "\n",
    "    return nulled_psf\n",
    "\n",
    "def calc_JvM_epsilon(xx, yy, target_beam_array, tapered_psf_array):\n",
    "    r, theta = np.sqrt(xx**2 + yy**2), np.arctan2(yy, xx)\n",
    "    epsilon = np.sum(target_beam_array) / np.sum(get_nulled_psf(tapered_psf_array, r, theta))\n",
    "    print(\"JvM epsilon: {:.4f}\".format(epsilon))\n",
    "    return epsilon\n",
    "\n",
    "def calc_uvtaper(vis, imagename, field=\"\", specmode=\"mfs\", weighting=\"superuniform\", cellsize=\"0.1arcsec\", imsize=None, target_beam=(0.1, 0.1, 0.0), **tclean_kwargs):\n",
    "    if not isinstance(target_beam, (tuple, list)):\n",
    "        target_beam = (target_beam, target_beam, 0.0)\n",
    "    target_bmaj, target_bmin, target_bpa = target_beam\n",
    "\n",
    "    print(\"Starting to estimate the uvtaper which achieve the target beam of {:.4f} arcsec x {:.4f} arcsec (P.A. = {:.4f} deg)\".format(*target_beam))\n",
    "\n",
    "    # calculate image size\n",
    "    if imsize is None:\n",
    "        imsize = utils.get_imsize(vis=vis, field=field, cellsize=cellsize)\n",
    "    \n",
    "    print(f\"Pixel size: {cellsize}\")\n",
    "    print(f\"Image size: {imsize}\")\n",
    "    dpix = float(cellsize.replace(\"arcsec\", \"\"))\n",
    "\n",
    "    # calculate and fit psf\n",
    "    msg = \"Calculating and fitting PSF with the original weighting scheme (weighting = {:s}\".format(weighting)\n",
    "    if \"briggs\" in weighting:\n",
    "        robust = tclean_kwargs.get(\"robust\", 0.5)\n",
    "        msg += f\", robust = {robust}\"\n",
    "    msg += \")\"\n",
    "    print(msg)\n",
    "\n",
    "    for ext in [\".psf\", \".pb\", \".sumwt\"]:\n",
    "        if os.path.exists(imagename + ext):\n",
    "            shutil.rmtree(imagename + ext)\n",
    "    casatasks.tclean(\n",
    "        vis=vis,\n",
    "        imagename=imagename,\n",
    "        specmode=specmode,\n",
    "        weighting=weighting,\n",
    "        cell=cellsize,\n",
    "        imsize=imsize,\n",
    "        calcres=False,\n",
    "        calcpsf=True,\n",
    "        **tclean_kwargs\n",
    "    )\n",
    "    print(\"Done.\")\n",
    "\n",
    "    # get the original psf array\n",
    "    ia.open(imagename + \".psf\")\n",
    "    psf_orig = ia.getregion().squeeze()\n",
    "    ia.close()\n",
    "    \n",
    "    # fetch beam info\n",
    "    bmaj, bmin, bpa = get_beam_info(imagename + \".psf\")\n",
    "    print(\n",
    "        \"Restoring beam shape: {:.4f} arcsec x {:.4f} arcsec (P.A. = {:.4f} deg)\".format(\n",
    "            bmaj, bmin, bpa\n",
    "        )\n",
    "    )\n",
    "\n",
    "    # window out the central region for computational efficiency while keeping enough region for convolution to work well\n",
    "    print(\"Windowing out the central region for computational efficiency\")\n",
    "    window_factor = 20 # factor to determined the window; multiplied to the target major axis\n",
    "    start_idx = int(imsize*0.5) - int(target_bmaj * window_factor / dpix)\n",
    "    end_idx = int(imsize*0.5) + int(target_bmaj * window_factor / dpix)\n",
    "    psf_windowed = psf_orig[start_idx:end_idx, start_idx:end_idx]\n",
    "    imsize_windowed = psf_windowed.shape[0]\n",
    "    print(f\"Image size of windowed psf: {imsize_windowed}\")\n",
    "\n",
    "    # minimizing the metric\n",
    "    xx, yy = get_xy_2D_coord(psf_windowed, imsize_windowed)\n",
    "    target_beam = Gaussian2D(xx, yy, sigma_x=au.FWHM_to_sigma(target_bmaj/dpix), sigma_y=au.FWHM_to_sigma(target_bmin/dpix), PA=target_bpa)\n",
    "    psf_cutoff = tclean_kwargs.get(\"psf_cutoff\", 0.35)\n",
    "\n",
    "    def beam_chi2(params):\n",
    "        tmaj, tmin, tpa = params\n",
    "\n",
    "        kernel = Gaussian2D(xx, yy, sigma_x=au.FWHM_to_sigma(tmaj/dpix), sigma_y=au.FWHM_to_sigma(tmin/dpix), PA=tpa)\n",
    "        tapered_beam = convolve_fft(psf_windowed, kernel=kernel)\n",
    "        tapered_beam /= np.max(tapered_beam)\n",
    "\n",
    "        metric = np.sum((target_beam[tapered_beam > psf_cutoff] - tapered_beam[tapered_beam > psf_cutoff])**2)\n",
    "\n",
    "        return metric\n",
    "\n",
    "    print(\"Calculating uvtaper parameter\")\n",
    "    x0 = (target_bmaj, target_bmin, target_bpa)\n",
    "    res = optimize.minimize(beam_chi2, x0=x0, method=\"Nelder-Mead\")\n",
    "    uvtaper = [str(res.x[0]) + \"arcsec\", str(res.x[1]) + \"arcsec\", str(res.x[2]) + \"deg\"]\n",
    "    print(f\"Done. Best-fit uvtaper parameter: \" + str(uvtaper))\n",
    "\n",
    "    # check JvM epsilon\n",
    "    print(\"Calculating the resulting beam shape after uvtaper\")\n",
    "    for ext in [\".psf\", \".pb\", \".sumwt\"]:\n",
    "        shutil.rmtree(imagename + ext)\n",
    "    casatasks.tclean(\n",
    "        vis=vis,\n",
    "        imagename=imagename,\n",
    "        specmode=specmode,\n",
    "        weighting=weighting,\n",
    "        uvtaper=uvtaper,\n",
    "        cell=cellsize,\n",
    "        imsize=imsize,\n",
    "        calcres=False,\n",
    "        calcpsf=True,\n",
    "        **tclean_kwargs\n",
    "    )\n",
    "    print(\"Done.\")\n",
    "\n",
    "    ia.open(imagename + \".psf\")\n",
    "    psf_tapered = ia.getregion().squeeze()\n",
    "    ia.close()\n",
    "\n",
    "     # fetch beam info\n",
    "    bmaj, bmin, bpa = get_beam_info(imagename + \".psf\")\n",
    "    print(\n",
    "        \"Restoring beam shape after uvtaper: {:.4f} arcsec x {:.4f} arcsec (P.A. = {:.4f} deg)\".format(\n",
    "            bmaj, bmin, bpa\n",
    "        )\n",
    "    )\n",
    "\n",
    "    xx, yy = get_xy_2D_coord(psf_tapered, imsize)\n",
    "    target_beam = Gaussian2D(xx, yy, sigma_x=au.FWHM_to_sigma(target_bmaj/dpix), sigma_y=au.FWHM_to_sigma(target_bmin/dpix), PA=target_bpa)\n",
    "    eps = calc_JvM_epsilon(xx, yy, target_beam_array=target_beam, tapered_psf_array=psf_tapered)\n",
    "    if np.abs(eps - 1.0) > 0.1:\n",
    "        print(\"Warning: dirty psf is deviated from the CLEAN beam by > 10%\")\n",
    "\n",
    "    return uvtaper\n",
    "\n",
    "\n",
    "    \n"
   ]
  },
  {
   "cell_type": "code",
   "execution_count": 7,
   "metadata": {},
   "outputs": [
    {
     "name": "stdout",
     "output_type": "stream",
     "text": [
      "Starting to estimate the uvtaper which achieve the target beam of 0.3200 arcsec x 0.2556 arcsec (P.A. = 148.0000 deg)\n",
      "Pixel size: 0.01arcsec\n",
      "Image size: 3456\n",
      "Calculating and fitting PSF with the original weighting scheme (weighting = briggs, robust = -2.0)\n"
     ]
    },
    {
     "name": "stderr",
     "output_type": "stream",
     "text": [
      "\n",
      "0%....10....20....30....40....50....60....70....80....90....100%\n"
     ]
    },
    {
     "name": "stdout",
     "output_type": "stream",
     "text": [
      "Done.\n",
      "Restoring beam shape: 0.2253 arcsec x 0.1383 arcsec (P.A. = -0.3884 deg)\n",
      "Windowing out the central region for computational efficiency\n",
      "Image size of windowed psf: 1280\n",
      "Calculating uvtaper parameter\n",
      "Done. Best-fit uvtaper parameter: ['0.2921179740349079arcsec', '0.2235095879986807arcsec', '128.4518037010952deg']\n",
      "Calculating the resulting beam shape after uvtaper\n"
     ]
    },
    {
     "name": "stderr",
     "output_type": "stream",
     "text": [
      "\n",
      "0%....10....20....30....40....50....60....70....80....90....100%\n"
     ]
    },
    {
     "name": "stdout",
     "output_type": "stream",
     "text": [
      "Done.\n",
      "Restoring beam shape after uvtaper: 0.3200 arcsec x 0.2556 arcsec (P.A. = -32.1110 deg)\n",
      "JvM epsilon: 1.0687\n"
     ]
    },
    {
     "data": {
      "text/plain": [
       "['0.2921179740349079arcsec',\n",
       " '0.2235095879986807arcsec',\n",
       " '128.4518037010952deg']"
      ]
     },
     "execution_count": 7,
     "metadata": {},
     "output_type": "execute_result"
    }
   ],
   "source": [
    "incl = disk_dict[\"MWC_480\"][\"incl\"]\n",
    "PA = disk_dict[\"MWC_480\"][\"PA\"]\n",
    "target_bmaj = 0.32\n",
    "\n",
    "uvtaper = calc_uvtaper(\n",
    "    vis=vis,\n",
    "    imagename=imagename,\n",
    "    field=\"MWC_480\",\n",
    "    specmode=\"mfs\",\n",
    "    weighting=weighting,\n",
    "    cellsize=cellsize,\n",
    "    robust=-2.0,\n",
    "    target_beam=(target_bmaj, target_bmaj * np.cos(np.deg2rad(incl)), PA),\n",
    ")\n",
    "uvtaper"
   ]
  },
  {
   "cell_type": "code",
   "execution_count": null,
   "metadata": {},
   "outputs": [],
   "source": [
    "# calculate uvtaper in klambda; see Eq. 27/28 in Czekala+21\n",
    "a = 1e-3 * (3600 * 180 / np.pi) * 4 * np.log(2) / (np.pi * res.x[0])\n",
    "b = 1e-3 * (3600 * 180 / np.pi) * 4 * np.log(2) / (np.pi * res.x[1])\n",
    "phi = res.x[2]\n",
    "uvtaper = [f\"{a}klambda\", f\"{b}klambda\", f\"{phi}deg\"]"
   ]
  },
  {
   "cell_type": "code",
   "execution_count": 9,
   "metadata": {},
   "outputs": [
    {
     "name": "stdout",
     "output_type": "stream",
     "text": [
      "Theoretical estimates of image sensitivity\n",
      "# ./data/measurement_set/MWC_480_continuum.ms/\n",
      "# specmode = 'mfs'\n",
      "# spw = ''\n",
      "# uvtaper = [0.2921179740349079arcsec, 0.2235095879986807arcsec, 128.4518037010952deg]\n",
      "(True, 4.297411130796115e-05, 3.700729757958031)\n",
      "# Briggs sensitivity with robust = -2.0: 4.297411130796115e-05 Jy\n",
      "# Relative to natural weighting: 3.700729757958031\n",
      "### Averaged sensitivity over 1 measurement sets: 4.297411130796115e-05 Jy\n"
     ]
    },
    {
     "data": {
      "text/plain": [
       "4.297411130796115e-05"
      ]
     },
     "execution_count": 9,
     "metadata": {},
     "output_type": "execute_result"
    }
   ],
   "source": [
    "rms = utils.calc_sensitivity(vis, cellsize=\"0.01arcsec\", imsize=imsize, weighting=weighting, uvtaper=uvtaper, robust=-2.0)\n",
    "rms"
   ]
  },
  {
   "cell_type": "code",
   "execution_count": 14,
   "metadata": {},
   "outputs": [
    {
     "name": "stdout",
     "output_type": "stream",
     "text": [
      "Theoretical estimates of image sensitivity\n",
      "# ./data/measurement_set/MWC_480_continuum.ms/\n",
      "# specmode = 'mfs'\n",
      "# spw = ''\n",
      "# uvtaper = [0.3058228991242865arcsec, 0.24400252328819988arcsec, 140.98040917947424deg]\n",
      "(True, 1.6208554742945666e-05, 1.3958050334271506)\n",
      "# Briggs sensitivity with robust = 0.5: 1.6208554742945666e-05 Jy\n",
      "# Relative to natural weighting: 1.3958050334271506\n",
      "### Averaged sensitivity over 1 measurement sets: 1.6208554742945666e-05 Jy\n"
     ]
    },
    {
     "name": "stderr",
     "output_type": "stream",
     "text": [
      "\n",
      "0%....10....20....30....40....50....60....70....80....90....100%\n",
      "\n",
      "0%....10....20....30....40....50....60....70....80....90....100%\n",
      "\n",
      "0%....10....20....30....40....50....60....70....80....90....100%\n",
      "\n",
      "0%....10....20....30....40....50....60....70....80....90....100%\n",
      "\n",
      "0%....10....20....30....40....50....60....70....80....90....100%\n",
      "\n",
      "0%....10....20....30....40....50....60....70....80....90....100%\n"
     ]
    },
    {
     "data": {
      "text/plain": [
       "{'cleanstate': 'running',\n",
       " 'cyclefactor': 1.0,\n",
       " 'cycleiterdone': 0,\n",
       " 'cycleniter': 100000,\n",
       " 'cyclethreshold': 3.2333221042790683e-06,\n",
       " 'interactiveiterdone': 5508,\n",
       " 'interactivemode': False,\n",
       " 'interactiveniter': 0,\n",
       " 'interactivethreshold': 0.0,\n",
       " 'iterdone': 5508,\n",
       " 'loopgain': 0.10000000149011612,\n",
       " 'maxpsffraction': 0.800000011920929,\n",
       " 'maxpsfsidelobe': 0.03886311873793602,\n",
       " 'minpsffraction': 0.05000000074505806,\n",
       " 'niter': 100000,\n",
       " 'nmajordone': 5,\n",
       " 'nsigma': 0.0,\n",
       " 'stopcode': 2,\n",
       " 'summarymajor': array([   0,   95, 1117, 5117, 5508]),\n",
       " 'summaryminor': {0: {0: {0: {'iterDone': [95.0, 1022.0, 4000.0, 391.0],\n",
       "     'peakRes': [0.0076918210834264755,\n",
       "      0.00038307730574160814,\n",
       "      0.0005356012261472642,\n",
       "      6.46663538645953e-05],\n",
       "     'modelFlux': [0.4050573408603668,\n",
       "      0.5302750468254089,\n",
       "      0.538554847240448,\n",
       "      0.538739800453186],\n",
       "     'cycleThresh': [0.007772909011691809,\n",
       "      0.00038458631024695933,\n",
       "      6.483421748271212e-05,\n",
       "      6.483421748271212e-05]}}}},\n",
       " 'threshold': 6.483421748271212e-05,\n",
       " 'stopDescription': 'threshold'}"
      ]
     },
     "execution_count": 14,
     "metadata": {},
     "output_type": "execute_result"
    }
   ],
   "source": [
    "# tclean\n",
    "scales = [0, 10, 30]\n",
    "deconvolver = \"mtmfs\"\n",
    "nterms = 2\n",
    "\n",
    "# modified from MWC480_reduction_v2.py\n",
    "mask_semimaj = 2.5\n",
    "disk_mask = \"ellipse[[{:s}, {:s}], [{:.1f}arcsec, {:.1f}arcsec], {:.1f}deg]\".format(\n",
    "\t\"04h58m46.27936s\", \"+29d50m36.398586s\", mask_semimaj, mask_semimaj * np.cos(np.deg2rad(incl)), PA\n",
    ")\n",
    "\n",
    "rms = utils.calc_sensitivity(vis, cellsize=cellsize, imsize=imsize, weighting=weighting, uvtaper=uvtaper)\n",
    "\n",
    "for ext in [\".alpha*\", \".image*\", \".mask\", \".model*\", \".pb*\", \".psf*\", \".residual*\", \".sumwt*\"]:\n",
    "    os.system(\"rm -r \" + imagename + ext)\n",
    "    \n",
    "casatasks.tclean(\n",
    "    vis=vis,\n",
    "    imagename=imagename,\n",
    "    imsize=imsize,\n",
    "    cell=cellsize,\n",
    "    specmode=\"mfs\",\n",
    "    deconvolver=deconvolver,\n",
    "    scales=scales,\n",
    "    weighting=weighting,\n",
    "    nterms=nterms,\n",
    "    niter=100000,\n",
    "    threshold=f\"{rms*4}Jy\",\n",
    "    usemask=\"user\",\n",
    "    mask=disk_mask,\n",
    "    uvtaper=uvtaper,\n",
    "    # nsigma=3.0\n",
    ")"
   ]
  },
  {
   "cell_type": "code",
   "execution_count": 21,
   "metadata": {},
   "outputs": [
    {
     "data": {
      "text/plain": [
       "1.7363699031228853e-05"
      ]
     },
     "execution_count": 21,
     "metadata": {},
     "output_type": "execute_result"
    }
   ],
   "source": [
    "rms"
   ]
  },
  {
   "cell_type": "code",
   "execution_count": 24,
   "metadata": {},
   "outputs": [
    {
     "name": "stdout",
     "output_type": "stream",
     "text": [
      "/bin/bash: carta: コマンドが見つかりません\n"
     ]
    }
   ],
   "source": []
  },
  {
   "cell_type": "code",
   "execution_count": null,
   "metadata": {},
   "outputs": [],
   "source": []
  }
 ],
 "metadata": {
  "kernelspec": {
   "display_name": ".venv",
   "language": "python",
   "name": "python3"
  },
  "language_info": {
   "codemirror_mode": {
    "name": "ipython",
    "version": 3
   },
   "file_extension": ".py",
   "mimetype": "text/x-python",
   "name": "python",
   "nbconvert_exporter": "python",
   "pygments_lexer": "ipython3",
   "version": "3.10.5"
  }
 },
 "nbformat": 4,
 "nbformat_minor": 2
}
