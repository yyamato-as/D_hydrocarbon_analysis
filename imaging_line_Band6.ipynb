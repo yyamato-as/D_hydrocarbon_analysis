{
 "cells": [
  {
   "cell_type": "code",
   "execution_count": 1,
   "metadata": {},
   "outputs": [
    {
     "name": "stdout",
     "output_type": "stream",
     "text": [
      "You appear to be importing analysisUtils into python (not CASA). version =  3.10.5\n",
      "CASAPATH is not defined, so I am skipping a lot of imports\n",
      "Successfully imported `make_mask`.\n"
     ]
    }
   ],
   "source": [
    "import sys\n",
    "sys.path.append(\"/home/yamato/Application/reduction_tools/\")\n",
    "sys.path.append(\"/home/yamato/Application/keplerian_mask/\")\n",
    "import reduction_utils_mpi as utils\n",
    "from keplerian_mask import make_mask\n",
    "import casatasks\n",
    "import casatools\n",
    "from linedictionary_v2 import line_dict\n",
    "from diskdictionary import disk_dict\n",
    "import shutil\n",
    "import os\n",
    "import analysis_utils as au\n",
    "import imaging_utils as iutils\n",
    "import numpy as np\n",
    "\n",
    "tb = casatools.table()\n",
    "\n",
    "source = \"MWC_480\"\n",
    "msdir = \"/works/yamato/MAPS_data/v1_product/measurement_set/\"\n",
    "vispath = \"./data/measurement_set/\"\n",
    "impath = \"./data/image/\"\n",
    "EBs = [\"SB1\", \"SB2\", \"LB1\", \"LB2\", \"LB3\", \"LB4\", \"LB5\", \"LB6\"]\n",
    "ms_list = [msdir + f\"{source}_{i}_spectral_line.ms\" for i in EBs]\n",
    "ms_wcont_list = [msdir + f\"{source}_{i}_spectral_line_wcont.ms\" for i in EBs]\n",
    "lines = [f\"C2H_3-2_hfs{i+1}\" for i in range(5)]\n",
    "velocity_range = 15  # maximum velocity w.r.t. vsys in km/s\n",
    "velocity_width = 0.2\n",
    "\n",
    "disk = au.DiskProperty(\n",
    "    PA=disk_dict[source][\"PA_gofish\"],\n",
    "    incl=disk_dict[source][\"incl\"],\n",
    "    Mstar=disk_dict[source][\"M_star\"],\n",
    "    vsys=disk_dict[source][\"v_sys\"],\n",
    "    distance=disk_dict[source][\"distance\"],\n",
    ")"
   ]
  },
  {
   "cell_type": "code",
   "execution_count": null,
   "metadata": {},
   "outputs": [],
   "source": [
    "# split out the respect spectral window and then concatenate\n",
    "for line in lines:\n",
    "    print(\"Processing \" + line)\n",
    "    spw = line_dict[source][line][\"spw\"]\n",
    "    print(\"Transitions: \", line)\n",
    "    print(\"SPW: \", spw)\n",
    "    ms_list_split = []\n",
    "    # split\n",
    "    for ms in ms_list:\n",
    "        print(\"Input: \", ms)\n",
    "        outputvis = vispath + os.path.basename(ms).replace(\"_spectral_line.ms\", f\"_{line}.ms\")\n",
    "        print(\"Output: \", outputvis)\n",
    "        os.system(\"rm -r \" + outputvis)\n",
    "        casatasks.split(vis=ms, outputvis=outputvis, spw=spw, datacolumn=\"data\")\n",
    "        ms_list_split.append(outputvis)\n",
    "\n",
    "    # concat\n",
    "    concatvis = vispath + f\"{source}_{line}.ms\"\n",
    "    print(\"Concatenated MS: \", concatvis)\n",
    "    os.system(\"rm -r \" + concatvis)\n",
    "    casatasks.concat(vis=ms_list_split, concatvis=concatvis)\n",
    "    for vis in ms_list_split:\n",
    "        shutil.rmtree(vis)\n",
    "\n",
    "    # cvel\n",
    "    print(\"cveled MS: \", concatvis + \".cvel\")\n",
    "    os.system(\"rm -r \" + concatvis + \".cvel\")\n",
    "    casatasks.cvel2(\n",
    "        vis=concatvis,\n",
    "        outputvis=concatvis + \".cvel\",\n",
    "        mode=\"velocity\",\n",
    "        restfreq=line_dict[source][line][\"restfreq\"],\n",
    "        outframe=\"LSRK\",\n",
    "        veltype=\"radio\",\n",
    "        width=f\"{velocity_width}km/s\",\n",
    "        start=f\"{disk.vsys - velocity_range}km/s\",\n",
    "        nchan=int(2 * velocity_range / velocity_width), \n",
    "    )\n",
    "\n",
    "    # set the rest frequency\n",
    "    tb.open(concatvis + \".cvel/SOURCE\", nomodify=False)\n",
    "    nu0 = float(line_dict[source][line][\"restfreq\"].replace(\"GHz\", \"\")) * 1e9\n",
    "    tb.putcol(\"REST_FREQUENCY\", np.array([[nu0]]))\n",
    "    tb.close()"
   ]
  },
  {
   "cell_type": "code",
   "execution_count": 2,
   "metadata": {},
   "outputs": [
    {
     "name": "stdout",
     "output_type": "stream",
     "text": [
      "Processing C2H_3-2_hfs1\n",
      "Starting to estimate the uvtaper which achieve the target beam of 0.3000 arcsec x 0.2396 arcsec (P.A. = 328.0000 deg)\n",
      "Pixel size: 0.02arcsec\n",
      "Image size: 1920\n",
      "Calculating and fitting PSF with the original weighting scheme (weighting = superuniform)\n"
     ]
    },
    {
     "name": "stderr",
     "output_type": "stream",
     "text": [
      "\n",
      "0%....10....20....30....40....50....60....70....80....90....100%\n"
     ]
    },
    {
     "name": "stdout",
     "output_type": "stream",
     "text": [
      "Done.\n",
      "(1920, 1920)\n",
      "Restoring beam shape: 0.0822 arcsec x 0.0458 arcsec (P.A. = -21.2508 deg)\n",
      "Windowing out the central region for computational efficiency\n",
      "Image size of windowed psf: 600\n",
      "Calculating uvtaper parameter\n",
      "Done. Best-fit uvtaper parameter: ['0.2989823905047526arcsec', '0.2384680862581835arcsec', '327.9406022873161deg']\n",
      "Calculating the resulting beam shape after uvtaper\n"
     ]
    },
    {
     "name": "stderr",
     "output_type": "stream",
     "text": [
      "\n",
      "0%....10....20....30....40....50....60....70....80....90....100%\n"
     ]
    },
    {
     "name": "stdout",
     "output_type": "stream",
     "text": [
      "Done.\n",
      "Restoring beam shape after uvtaper: 0.3000 arcsec x 0.2396 arcsec (P.A. = -32.0014 deg)\n",
      "JvM epsilon: 0.9986\n"
     ]
    },
    {
     "name": "stderr",
     "output_type": "stream",
     "text": [
      "\n",
      "0%....10....20....30....40....50....60....70....80....90....100%\n",
      "\n",
      "0%....10....20....30....40....50....60....70....80....90....100%\n",
      "2023-12-16 03:03:05\tWARN\ttask_tclean::SIImageStore::restore (file /source/casa6/casatools/src/code/synthesis/ImagerObjects/SIImageStore.cc, line 2284)\tRestoring with an empty model image. Only residuals will be processed to form the output restored image.\n",
      "....10....20....30....40....50....60....70....80....90....100%\n"
     ]
    },
    {
     "name": "stdout",
     "output_type": "stream",
     "text": [
      "# Estimated RMS of unmasked regions: 1.98 mJy/beam\n",
      "# If there are strong sidelobes this may overestimate the RMS.\n"
     ]
    },
    {
     "name": "stderr",
     "output_type": "stream",
     "text": [
      "\n",
      "0%....10....20....30....40....50....60....70....80....90....100%\n",
      "\n",
      "0%....10....20....30....40....50....60....70....80....90....100%\n",
      "\n",
      "0%....10....20....30....40....50....60....70....80....90....100%\n"
     ]
    },
    {
     "name": "stdout",
     "output_type": "stream",
     "text": [
      "Correcting primary beam response\n",
      "Exporting to FITS\n",
      "Processing C2H_3-2_hfs2\n",
      "Starting to estimate the uvtaper which achieve the target beam of 0.3000 arcsec x 0.2396 arcsec (P.A. = 328.0000 deg)\n",
      "Pixel size: 0.02arcsec\n",
      "Image size: 1920\n",
      "Calculating and fitting PSF with the original weighting scheme (weighting = superuniform)\n"
     ]
    },
    {
     "name": "stderr",
     "output_type": "stream",
     "text": [
      "\n",
      "0%....10....20....30....40....50....60....70....80....90....100%\n"
     ]
    },
    {
     "name": "stdout",
     "output_type": "stream",
     "text": [
      "Done.\n",
      "(1920, 1920)\n",
      "Restoring beam shape: 0.0822 arcsec x 0.0458 arcsec (P.A. = -21.2500 deg)\n",
      "Windowing out the central region for computational efficiency\n",
      "Image size of windowed psf: 600\n",
      "Calculating uvtaper parameter\n",
      "Done. Best-fit uvtaper parameter: ['0.298982831332134arcsec', '0.23846796978349055arcsec', '327.94093177556226deg']\n",
      "Calculating the resulting beam shape after uvtaper\n"
     ]
    },
    {
     "name": "stderr",
     "output_type": "stream",
     "text": [
      "\n",
      "0%....10....20....30....40....50....60....70....80....90....100%\n"
     ]
    },
    {
     "name": "stdout",
     "output_type": "stream",
     "text": [
      "Done.\n",
      "Restoring beam shape after uvtaper: 0.3000 arcsec x 0.2396 arcsec (P.A. = -32.0013 deg)\n",
      "JvM epsilon: 0.9986\n"
     ]
    },
    {
     "name": "stderr",
     "output_type": "stream",
     "text": [
      "\n",
      "0%....10....20....30....40....50....60....70....80....90....100%\n",
      "2023-12-16 04:14:58\tWARN\tSIImageStore::getPSFGaussian (file /source/casa6/casatools/src/code/synthesis/ImagerObjects/SIImageStore.cc, line 2075)\tPSF is blank for[C149:P0] \n",
      "\n",
      "0%....10....20....30....40....50....60....70....80....90....100%\n",
      "2023-12-16 04:22:57\tWARN\ttask_tclean::SIImageStore::restore (file /source/casa6/casatools/src/code/synthesis/ImagerObjects/SIImageStore.cc, line 2284)\tRestoring with an empty model image. Only residuals will be processed to form the output restored image.\n",
      "....10....20....30....40....50....60....70....80....90....100%\n",
      "....10....20....30....40....50....60....70....80....90....100%\n"
     ]
    },
    {
     "name": "stdout",
     "output_type": "stream",
     "text": [
      "# Estimated RMS of unmasked regions: 1.97 mJy/beam\n",
      "# If there are strong sidelobes this may overestimate the RMS.\n"
     ]
    },
    {
     "name": "stderr",
     "output_type": "stream",
     "text": [
      "\n",
      "0%....10....20....30....40....50....60....70....80....90....100%\n",
      "2023-12-16 04:44:47\tWARN\ttask_tclean::SIImageStore::getPSFGaussian (file /source/casa6/casatools/src/code/synthesis/ImagerObjects/SIImageStore.cc, line 2075)\tPSF is blank for[C149:P0] \n",
      "\n",
      "0%....10....20....30....40....50....60....70....80....90....100%\n",
      "\n",
      "0%....10....20....30....40....50....60....70....80....90....100%\n"
     ]
    },
    {
     "name": "stdout",
     "output_type": "stream",
     "text": [
      "Correcting primary beam response\n",
      "Exporting to FITS\n",
      "Processing C2H_3-2_hfs3\n",
      "Starting to estimate the uvtaper which achieve the target beam of 0.3000 arcsec x 0.2396 arcsec (P.A. = 328.0000 deg)\n",
      "Pixel size: 0.02arcsec\n",
      "Image size: 1920\n",
      "Calculating and fitting PSF with the original weighting scheme (weighting = superuniform)\n"
     ]
    },
    {
     "name": "stderr",
     "output_type": "stream",
     "text": [
      "\n",
      "0%....10....20....30....40....50....60....70....80....90....100%\n"
     ]
    },
    {
     "name": "stdout",
     "output_type": "stream",
     "text": [
      "Done.\n",
      "(1920, 1920)\n",
      "Restoring beam shape: 0.0822 arcsec x 0.0458 arcsec (P.A. = -21.2456 deg)\n",
      "Windowing out the central region for computational efficiency\n",
      "Image size of windowed psf: 600\n",
      "Calculating uvtaper parameter\n",
      "Done. Best-fit uvtaper parameter: ['0.29900432101102725arcsec', '0.238471627097036arcsec', '327.95286019768105deg']\n",
      "Calculating the resulting beam shape after uvtaper\n"
     ]
    },
    {
     "name": "stderr",
     "output_type": "stream",
     "text": [
      "\n",
      "0%....10....20....30....40....50....60....70....80....90....100%\n"
     ]
    },
    {
     "name": "stdout",
     "output_type": "stream",
     "text": [
      "Done.\n",
      "Restoring beam shape after uvtaper: 0.3000 arcsec x 0.2396 arcsec (P.A. = -32.0013 deg)\n",
      "JvM epsilon: 0.9985\n"
     ]
    },
    {
     "name": "stderr",
     "output_type": "stream",
     "text": [
      "\n",
      "0%....10....20....30....40....50....60....70....80....90....100%\n",
      "2023-12-16 05:34:52\tWARN\tSIImageStore::getPSFGaussian (file /source/casa6/casatools/src/code/synthesis/ImagerObjects/SIImageStore.cc, line 2075)\tPSF is blank for[C149:P0] \n",
      "\n",
      "0%....10....20....30....40....50....60....70....80....90....100%\n",
      "2023-12-16 05:42:51\tWARN\ttask_tclean::SIImageStore::restore (file /source/casa6/casatools/src/code/synthesis/ImagerObjects/SIImageStore.cc, line 2284)\tRestoring with an empty model image. Only residuals will be processed to form the output restored image.\n",
      "....10....20....30....40....50....60....70....80....90....100%\n"
     ]
    },
    {
     "name": "stdout",
     "output_type": "stream",
     "text": [
      "# Estimated RMS of unmasked regions: 1.92 mJy/beam\n",
      "# If there are strong sidelobes this may overestimate the RMS.\n"
     ]
    },
    {
     "name": "stderr",
     "output_type": "stream",
     "text": [
      "\n",
      "0%....10....20....30....40....50....60....70....80....90....100%\n",
      "2023-12-16 06:06:22\tWARN\ttask_tclean::SIImageStore::getPSFGaussian (file /source/casa6/casatools/src/code/synthesis/ImagerObjects/SIImageStore.cc, line 2075)\tPSF is blank for[C149:P0] \n",
      "\n",
      "0%....10....20....30....40....50....60....70....80....90....100%\n",
      "\n",
      "0%....10....20....30....40....50....60....70....80....90....100%\n"
     ]
    },
    {
     "name": "stdout",
     "output_type": "stream",
     "text": [
      "Correcting primary beam response\n",
      "Exporting to FITS\n",
      "Processing C2H_3-2_hfs4\n",
      "Starting to estimate the uvtaper which achieve the target beam of 0.3000 arcsec x 0.2396 arcsec (P.A. = 328.0000 deg)\n",
      "Pixel size: 0.02arcsec\n",
      "Image size: 1920\n",
      "Calculating and fitting PSF with the original weighting scheme (weighting = superuniform)\n"
     ]
    },
    {
     "name": "stderr",
     "output_type": "stream",
     "text": [
      "\n",
      "0%....10....20....30....40....50....60....70....80....90....100%\n"
     ]
    },
    {
     "name": "stdout",
     "output_type": "stream",
     "text": [
      "Done.\n",
      "(1920, 1920)\n",
      "Restoring beam shape: 0.0822 arcsec x 0.0458 arcsec (P.A. = -21.2460 deg)\n",
      "Windowing out the central region for computational efficiency\n",
      "Image size of windowed psf: 600\n",
      "Calculating uvtaper parameter\n",
      "Done. Best-fit uvtaper parameter: ['0.2990040267170888arcsec', '0.23847187624544292arcsec', '327.9526638052669deg']\n",
      "Calculating the resulting beam shape after uvtaper\n"
     ]
    },
    {
     "name": "stderr",
     "output_type": "stream",
     "text": [
      "\n",
      "0%....10....20....30....40....50....60....70....80....90....100%\n"
     ]
    },
    {
     "name": "stdout",
     "output_type": "stream",
     "text": [
      "Done.\n",
      "Restoring beam shape after uvtaper: 0.3000 arcsec x 0.2396 arcsec (P.A. = -32.0013 deg)\n",
      "JvM epsilon: 0.9985\n"
     ]
    },
    {
     "name": "stderr",
     "output_type": "stream",
     "text": [
      "\n",
      "0%....10....20....30....40....50....60....70....80....90....100%\n",
      "2023-12-16 06:55:53\tWARN\tSIImageStore::getPSFGaussian (file /source/casa6/casatools/src/code/synthesis/ImagerObjects/SIImageStore.cc, line 2075)\tPSF is blank for[C149:P0] \n",
      "\n",
      "0%....10....20....30....40....50....60....70....80....90....100%\n",
      "2023-12-16 07:03:49\tWARN\ttask_tclean::SIImageStore::restore (file /source/casa6/casatools/src/code/synthesis/ImagerObjects/SIImageStore.cc, line 2284)\tRestoring with an empty model image. Only residuals will be processed to form the output restored image.\n",
      "....10....20....30....40....50....60....70....80....90....100%\n",
      "....10....20....30....40....50....60....70....80....90....100%\n"
     ]
    },
    {
     "name": "stdout",
     "output_type": "stream",
     "text": [
      "# Estimated RMS of unmasked regions: 1.92 mJy/beam\n",
      "# If there are strong sidelobes this may overestimate the RMS.\n"
     ]
    },
    {
     "name": "stderr",
     "output_type": "stream",
     "text": [
      "\n",
      "0%....10....20....30....40....50....60....70....80....90....100%\n",
      "2023-12-16 07:29:28\tWARN\ttask_tclean::SIImageStore::getPSFGaussian (file /source/casa6/casatools/src/code/synthesis/ImagerObjects/SIImageStore.cc, line 2075)\tPSF is blank for[C149:P0] \n",
      "\n",
      "0%....10....20....30....40....50....60....70....80....90....100%\n",
      "\n",
      "0%....10....20....30....40....50....60....70....80....90....100%\n"
     ]
    },
    {
     "name": "stdout",
     "output_type": "stream",
     "text": [
      "Correcting primary beam response\n",
      "Exporting to FITS\n",
      "Processing C2H_3-2_hfs5\n",
      "Starting to estimate the uvtaper which achieve the target beam of 0.3000 arcsec x 0.2396 arcsec (P.A. = 328.0000 deg)\n",
      "Pixel size: 0.02arcsec\n",
      "Image size: 1920\n",
      "Calculating and fitting PSF with the original weighting scheme (weighting = superuniform)\n"
     ]
    },
    {
     "name": "stderr",
     "output_type": "stream",
     "text": [
      "\n",
      "0%....10....20....30....40....50....60....70....80....90....100%\n"
     ]
    },
    {
     "name": "stdout",
     "output_type": "stream",
     "text": [
      "Done.\n",
      "(1920, 1920)\n",
      "Restoring beam shape: 0.0822 arcsec x 0.0458 arcsec (P.A. = -21.2473 deg)\n",
      "Windowing out the central region for computational efficiency\n",
      "Image size of windowed psf: 600\n",
      "Calculating uvtaper parameter\n",
      "Done. Best-fit uvtaper parameter: ['0.2990002946085554arcsec', '0.2384726919303769arcsec', '327.9505270149165deg']\n",
      "Calculating the resulting beam shape after uvtaper\n"
     ]
    },
    {
     "name": "stderr",
     "output_type": "stream",
     "text": [
      "\n",
      "0%....10....20....30....40....50....60....70....80....90....100%\n"
     ]
    },
    {
     "name": "stdout",
     "output_type": "stream",
     "text": [
      "Done.\n",
      "Restoring beam shape after uvtaper: 0.3000 arcsec x 0.2396 arcsec (P.A. = -32.0013 deg)\n",
      "JvM epsilon: 0.9985\n"
     ]
    },
    {
     "name": "stderr",
     "output_type": "stream",
     "text": [
      "\n",
      "0%....10....20....30....40....50....60....70....80....90....100%\n",
      "\n",
      "0%....10....20....30....40....50....60....70....80....90....100%\n",
      "2023-12-16 08:27:29\tWARN\ttask_tclean::SIImageStore::restore (file /source/casa6/casatools/src/code/synthesis/ImagerObjects/SIImageStore.cc, line 2284)\tRestoring with an empty model image. Only residuals will be processed to form the output restored image.\n",
      "....10....20....30....40....50....60....70....80....90....100%\n",
      "....10....20....30....40....50....60....70....80....90....100%\n"
     ]
    },
    {
     "name": "stdout",
     "output_type": "stream",
     "text": [
      "# Estimated RMS of unmasked regions: 1.91 mJy/beam\n",
      "# If there are strong sidelobes this may overestimate the RMS.\n"
     ]
    },
    {
     "name": "stderr",
     "output_type": "stream",
     "text": [
      "\n",
      "0%....10....20....30....40....50....60....70....80....90....100%\n",
      "\n",
      "0%....10....20....30....40....50....60....70....80....90....100%\n",
      "\n",
      "0%....10....20....30....40....50....60....70....80....90....100%\n"
     ]
    },
    {
     "name": "stdout",
     "output_type": "stream",
     "text": [
      "Correcting primary beam response\n",
      "Exporting to FITS\n"
     ]
    }
   ],
   "source": [
    "# first make dirty image and then CLEAN\n",
    "### basic parameters for tclean ###\n",
    "cellsize = \"0.02arcsec\"\n",
    "weighting = \"superuniform\"\n",
    "scales = [0, 10, 30]\n",
    "npixels = 6\n",
    "target_bmaj = 0.3\n",
    "deconvolver = \"multiscale\"\n",
    "spw = \"0\"\n",
    "\n",
    "### parameters for Keplerian mask ###\n",
    "r_min = 0.25\n",
    "r_max = 2.5\n",
    "zr = 0.0\n",
    "nbeams = 1.5\n",
    "\n",
    "for line in lines:\n",
    "    print(\"Processing \" + line)\n",
    "    # first calculate the taper parameter to acheive the desired beams\n",
    "    vis = vispath + f\"{source}_{line}.ms.cvel\"\n",
    "    imagename = impath + f\"{source}_{line}_hybrid\"\n",
    "    imsize = utils.get_imsize(\n",
    "        vis=vis,\n",
    "        field=source,\n",
    "        cellsize=cellsize,\n",
    "    )\n",
    "\n",
    "    for ext in [\".alpha\", \".image\", \".mask\", \".model\", \".pb\", \".psf\", \".residual\", \".sumwt\"]:\n",
    "        if os.path.exists(imagename + ext):\n",
    "            shutil.rmtree(imagename + ext)\n",
    "            \n",
    "    uvtaper = iutils.calc_uvtaper(\n",
    "        vis=vis,\n",
    "        imagename=imagename,\n",
    "        field=source,\n",
    "        specmode=\"mfs\",\n",
    "        weighting=weighting,\n",
    "        npixels=npixels,\n",
    "        cellsize=cellsize,\n",
    "        target_beam=(target_bmaj, target_bmaj * np.cos(np.deg2rad(disk.incl)), disk.PA),\n",
    "    )\n",
    "\n",
    "    for ext in [\".alpha\", \".image\", \".mask\", \".model\", \".pb\", \".psf\", \".residual\", \".sumwt\"]:\n",
    "        if os.path.exists(imagename + ext):\n",
    "            shutil.rmtree(imagename + ext)\n",
    "\n",
    "    casatasks.tclean(\n",
    "        vis=vis,\n",
    "        imagename=imagename,\n",
    "        spw=spw,\n",
    "        specmode=\"cube\",\n",
    "        outframe=\"LSRK\",\n",
    "        veltype=\"radio\",\n",
    "        imsize=imsize,\n",
    "        cell=cellsize,\n",
    "        scales=scales,\n",
    "        weighting=weighting,\n",
    "        npixels=npixels,\n",
    "        uvtaper=uvtaper,\n",
    "        restoringbeam=\"common\",\n",
    "        niter=0\n",
    "    )\n",
    "\n",
    "    # make mask\n",
    "    rms = make_mask(\n",
    "        imagename=imagename + \".image\",\n",
    "        inc=disk.incl,\n",
    "        PA=disk.PA,\n",
    "        mstar=disk.Mstar,\n",
    "        dist=disk.distance,\n",
    "        vlsr=disk.vsys * 1e3,\n",
    "        nbeams=nbeams,\n",
    "        r_min=r_min,\n",
    "        r_max=r_max,\n",
    "        zr=zr,\n",
    "        restfreqs=line_dict[source][line][\"maskfreqs\"],\n",
    "        export_FITS=True,\n",
    "        overwrite=True,\n",
    "    )\n",
    "    # shutil.rmtree(imagename + \".mask.image\")\n",
    "\n",
    "    # CLEAN\n",
    "    # rms = utils.calc_sensitivity(\n",
    "    #     vis,\n",
    "    #     cellsize=cellsize,\n",
    "    #     imsize=imsize,\n",
    "    #     weighting=weighting,\n",
    "    #     npixels=npixels,\n",
    "    #     specmode=\"cube\",\n",
    "    #     spw=[spw],\n",
    "    #     chan=int(0.5 * (2 * velocity_range / velocity_width)),\n",
    "    # )\n",
    "\n",
    "    for ext in [\".alpha\", \".image\", \".mask\", \".model\", \".pb\", \".psf\", \".residual\", \".sumwt\"]:\n",
    "        if os.path.exists(imagename + ext):\n",
    "            shutil.rmtree(imagename + ext)\n",
    "\n",
    "    casatasks.tclean(\n",
    "        vis=vis,\n",
    "        imagename=imagename,\n",
    "        spw=spw,\n",
    "        specmode=\"cube\",\n",
    "        outframe=\"LSRK\",\n",
    "        veltype=\"radio\",\n",
    "        imsize=imsize,\n",
    "        cell=cellsize,\n",
    "        scales=scales,\n",
    "        weighting=weighting,\n",
    "        npixels=npixels,\n",
    "        uvtaper=uvtaper,\n",
    "        restoringbeam=\"common\",\n",
    "        niter=1000000,\n",
    "        threshold=f\"{3*rms}Jy\",\n",
    "        usemask=\"user\",\n",
    "        mask=imagename + \".mask.image\"\n",
    "    )\n",
    "\n",
    "    # pbcor\n",
    "    print(\"Correcting primary beam response\")\n",
    "    casatasks.impbcor(\n",
    "        imagename=imagename + \".image\",\n",
    "        pbimage=imagename + \".pb\",\n",
    "        outfile=imagename + \".image.pbcor\",\n",
    "        overwrite=True,\n",
    "    )\n",
    "\n",
    "    # export fits\n",
    "    print(\"Exporting to FITS\")\n",
    "    for ext in [\".image\", \".image.pbcor\"]:\n",
    "        casatasks.exportfits(\n",
    "            imagename=imagename + ext,\n",
    "            fitsimage=imagename + ext + \".fits\",\n",
    "            dropstokes=True,\n",
    "            overwrite=True,\n",
    "        )"
   ]
  },
  {
   "cell_type": "code",
   "execution_count": null,
   "metadata": {},
   "outputs": [],
   "source": []
  }
 ],
 "metadata": {
  "kernelspec": {
   "display_name": ".venv",
   "language": "python",
   "name": "python3"
  },
  "language_info": {
   "codemirror_mode": {
    "name": "ipython",
    "version": 3
   },
   "file_extension": ".py",
   "mimetype": "text/x-python",
   "name": "python",
   "nbconvert_exporter": "python",
   "pygments_lexer": "ipython3",
   "version": "3.10.5"
  },
  "orig_nbformat": 4
 },
 "nbformat": 4,
 "nbformat_minor": 2
}
