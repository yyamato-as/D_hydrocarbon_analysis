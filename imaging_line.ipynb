{
 "cells": [
  {
   "cell_type": "code",
   "execution_count": 1,
   "metadata": {},
   "outputs": [
    {
     "name": "stdout",
     "output_type": "stream",
     "text": [
      "You appear to be importing analysisUtils into python (not CASA). version =  3.10.5\n",
      "CASAPATH is not defined, so I am skipping a lot of imports\n",
      "Successfully imported `make_mask`.\n"
     ]
    }
   ],
   "source": [
    "import sys\n",
    "sys.path.append(\"/home/yamato/Application/reduction_tools/\")\n",
    "sys.path.append(\"/home/yamato/Application/keplerian_mask/\")\n",
    "import reduction_utils_mpi as utils\n",
    "from keplerian_mask import make_mask\n",
    "import casatasks\n",
    "import casatools\n",
    "from linedictionary_v2 import line_dict\n",
    "from diskdictionary import disk_dict\n",
    "from datadictionary import data_dict\n",
    "import shutil\n",
    "import os\n",
    "import analysis_utils as au\n",
    "import imaging_utils as iutils\n",
    "import numpy as np\n",
    "\n",
    "tb = casatools.table()\n",
    "\n",
    "source = \"MWC_480\"\n",
    "line_dict = line_dict[source]\n",
    "vispath = \"./data/measurement_set/\"\n",
    "impath = \"./data/image/\"\n",
    "# lines = [\"C2H_3-2_fs1\", \"C2H_3-2_fs2\", \"C2D_4-3_fs1\", \"C2D_4-3_fs2\"]\n",
    "lines = [\"C2H_1-0_fs1\"]\n",
    "with_cont = True\n",
    "velocity_range = 10  # maximum velocity w.r.t. vsys in km/s\n",
    "velocity_width_B3 = 0.5\n",
    "velocity_width_B67 = 0.2\n",
    "\n",
    "disk = au.DiskProperty(\n",
    "    PA=disk_dict[source][\"PA_gofish\"],\n",
    "    incl=disk_dict[source][\"incl\"],\n",
    "    Mstar=disk_dict[source][\"M_star\"],\n",
    "    vsys=disk_dict[source][\"v_sys\"],\n",
    "    distance=disk_dict[source][\"distance\"],\n",
    ")\n"
   ]
  },
  {
   "cell_type": "code",
   "execution_count": 2,
   "metadata": {},
   "outputs": [
    {
     "name": "stdout",
     "output_type": "stream",
     "text": [
      "Base measurement sets:  ['/works/yamato/MAPS_data/MWC_480/Band3/self-calibrated/MWC_480_LB1_spectral_line_wcont.ms', '/works/yamato/MAPS_data/MWC_480/Band3/self-calibrated/MWC_480_LB2_spectral_line_wcont.ms', '/works/yamato/MAPS_data/MWC_480/Band3/self-calibrated/MWC_480_LB3_spectral_line_wcont.ms', '/works/yamato/MAPS_data/MWC_480/Band3/self-calibrated/MWC_480_LB4_spectral_line_wcont.ms', '/works/yamato/MAPS_data/MWC_480/Band3/self-calibrated/MWC_480_LB6_spectral_line_wcont.ms']\n",
      "Transitions:  C2H_1-0_fs1\n",
      "SPW:  0\n",
      "Input:  /works/yamato/MAPS_data/MWC_480/Band3/self-calibrated/MWC_480_LB1_spectral_line_wcont.ms\n",
      "Output:  ./data/measurement_set/MWC_480_LB1_C2H_1-0_fs1_wcont.ms\n"
     ]
    },
    {
     "name": "stderr",
     "output_type": "stream",
     "text": [
      "rm: './data/measurement_set/MWC_480_LB1_C2H_1-0_fs1_wcont.ms' を削除できません: そのようなファイルやディレクトリはありません\n"
     ]
    },
    {
     "name": "stdout",
     "output_type": "stream",
     "text": [
      "Input:  /works/yamato/MAPS_data/MWC_480/Band3/self-calibrated/MWC_480_LB2_spectral_line_wcont.ms\n",
      "Output:  ./data/measurement_set/MWC_480_LB2_C2H_1-0_fs1_wcont.ms\n"
     ]
    },
    {
     "name": "stderr",
     "output_type": "stream",
     "text": [
      "rm: './data/measurement_set/MWC_480_LB2_C2H_1-0_fs1_wcont.ms' を削除できません: そのようなファイルやディレクトリはありません\n"
     ]
    },
    {
     "name": "stdout",
     "output_type": "stream",
     "text": [
      "Input:  /works/yamato/MAPS_data/MWC_480/Band3/self-calibrated/MWC_480_LB3_spectral_line_wcont.ms\n",
      "Output:  ./data/measurement_set/MWC_480_LB3_C2H_1-0_fs1_wcont.ms\n"
     ]
    },
    {
     "name": "stderr",
     "output_type": "stream",
     "text": [
      "rm: './data/measurement_set/MWC_480_LB3_C2H_1-0_fs1_wcont.ms' を削除できません: そのようなファイルやディレクトリはありません\n"
     ]
    },
    {
     "name": "stdout",
     "output_type": "stream",
     "text": [
      "Input:  /works/yamato/MAPS_data/MWC_480/Band3/self-calibrated/MWC_480_LB4_spectral_line_wcont.ms\n",
      "Output:  ./data/measurement_set/MWC_480_LB4_C2H_1-0_fs1_wcont.ms\n"
     ]
    },
    {
     "name": "stderr",
     "output_type": "stream",
     "text": [
      "rm: './data/measurement_set/MWC_480_LB4_C2H_1-0_fs1_wcont.ms' を削除できません: そのようなファイルやディレクトリはありません\n"
     ]
    },
    {
     "name": "stdout",
     "output_type": "stream",
     "text": [
      "Input:  /works/yamato/MAPS_data/MWC_480/Band3/self-calibrated/MWC_480_LB6_spectral_line_wcont.ms\n",
      "Output:  ./data/measurement_set/MWC_480_LB6_C2H_1-0_fs1_wcont.ms\n"
     ]
    },
    {
     "name": "stderr",
     "output_type": "stream",
     "text": [
      "rm: './data/measurement_set/MWC_480_LB6_C2H_1-0_fs1_wcont.ms' を削除できません: そのようなファイルやディレクトリはありません\n"
     ]
    },
    {
     "name": "stdout",
     "output_type": "stream",
     "text": [
      "Concatenated MS:  ./data/measurement_set/MWC_480_C2H_1-0_fs1_wcont.ms\n"
     ]
    },
    {
     "name": "stderr",
     "output_type": "stream",
     "text": [
      "rm: './data/measurement_set/MWC_480_C2H_1-0_fs1_wcont.ms' を削除できません: そのようなファイルやディレクトリはありません\n"
     ]
    },
    {
     "name": "stdout",
     "output_type": "stream",
     "text": [
      "cveled MS:  ./data/measurement_set/MWC_480_C2H_1-0_fs1_wcont.ms.cvel\n",
      "Channel width:  0.5  km/s\n",
      "Velocity range: +/- 10  km/s w.r.t. v_sys =  5.1  km/s\n"
     ]
    },
    {
     "name": "stderr",
     "output_type": "stream",
     "text": [
      "rm: './data/measurement_set/MWC_480_C2H_1-0_fs1_wcont.ms.cvel' を削除できません: そのようなファイルやディレクトリはありません\n"
     ]
    }
   ],
   "source": [
    "# split out the respect spectral window and then concatenate\n",
    "# lines = [\"C2H_3-2\"]\n",
    "# lines = [\"C2H_3-2_fs2\"]\n",
    "for line in lines:\n",
    "    data = line_dict[line][\"data\"]\n",
    "    if with_cont:\n",
    "        data += \"_wcont\"\n",
    "    ms_list = data_dict[source][data]\n",
    "    spw = line_dict[line][\"spw\"]\n",
    "    if \"Band3\" in line_dict[line][\"data\"]:\n",
    "        velocity_width = velocity_width_B3\n",
    "    else:\n",
    "        velocity_width = velocity_width_B67\n",
    "    print(\"Base measurement sets: \", ms_list)\n",
    "    print(\"Transitions: \", line)\n",
    "    print(\"SPW: \", spw)\n",
    "    ms_list_split = []\n",
    "    # split\n",
    "    for ms in ms_list:\n",
    "        print(\"Input: \", ms)\n",
    "        outputvis = vispath + os.path.basename(ms).replace(\n",
    "            \"spectral_line\", line\n",
    "        )\n",
    "        print(\"Output: \", outputvis)\n",
    "        os.system(\"rm -r \" + outputvis)\n",
    "        casatasks.split(vis=ms, outputvis=outputvis, spw=spw, datacolumn=\"data\")\n",
    "        ms_list_split.append(outputvis)\n",
    "\n",
    "    # concat\n",
    "    concatvis = vispath + f\"{source}_{line}.ms\"\n",
    "    if with_cont:\n",
    "        concatvis = concatvis.replace(\".ms\", \"_wcont.ms\")\n",
    "    print(\"Concatenated MS: \", concatvis)\n",
    "    os.system(\"rm -r \" + concatvis)\n",
    "    casatasks.concat(vis=ms_list_split, concatvis=concatvis)\n",
    "    for vis in ms_list_split:\n",
    "        shutil.rmtree(vis)\n",
    "\n",
    "    # cvel\n",
    "    print(\"cveled MS: \", concatvis + \".cvel\")\n",
    "    print(\"Channel width: \", velocity_width, \" km/s\")\n",
    "    print(\n",
    "        \"Velocity range: +/-\",\n",
    "        velocity_range,\n",
    "        \" km/s w.r.t. v_sys = \",\n",
    "        disk.vsys,\n",
    "        \" km/s\",\n",
    "    )\n",
    "    # calculate velocity range\n",
    "    nu0 = float(line_dict[line][\"restfreq\"].replace(\"GHz\", \"\")) * 1e9\n",
    "    freqs = np.array(\n",
    "        [float(nu.replace(\"GHz\", \"\")) * 1e9 for nu in line_dict[line][\"freqs\"]]\n",
    "    )\n",
    "    v0 = au.dnu2dv(dnu=freqs - nu0, nu0=nu0) + disk.vsys\n",
    "    vmin = np.min(v0) - velocity_range\n",
    "    vmax = np.max(v0) + velocity_range\n",
    "    vmin = np.copysign(np.ceil(np.abs(vmin)), vmin)\n",
    "    vmax = np.copysign(np.ceil(np.abs(vmax)), vmax)\n",
    "    os.system(\"rm -r \" + concatvis + \".cvel\")\n",
    "    casatasks.cvel2(\n",
    "        vis=concatvis,\n",
    "        outputvis=concatvis + \".cvel\",\n",
    "        mode=\"velocity\",\n",
    "        restfreq=line_dict[line][\"restfreq\"],\n",
    "        outframe=\"LSRK\",\n",
    "        veltype=\"radio\",\n",
    "        width=f\"{velocity_width}km/s\",\n",
    "        start=f\"{float(vmin)}km/s\",\n",
    "        nchan=int((vmax - vmin) / velocity_width),\n",
    "    )\n",
    "\n",
    "    # set the rest frequency\n",
    "    tb.open(concatvis + \".cvel/SOURCE\", nomodify=False)\n",
    "    tb.putcol(\"REST_FREQUENCY\", np.array([[nu0]]))\n",
    "    tb.close()"
   ]
  },
  {
   "cell_type": "code",
   "execution_count": 3,
   "metadata": {},
   "outputs": [
    {
     "name": "stdout",
     "output_type": "stream",
     "text": [
      "Processing C2H_1-0_fs1\n",
      "Starting to estimate the uvtaper which achieve the target beam of 0.3000 arcsec x 0.2396 arcsec (P.A. = 328.0000 deg)\n",
      "Pixel size: 0.02arcsec\n",
      "Image size: 1920\n",
      "Calculating and fitting PSF with the original weighting scheme (weighting = superuniform)\n"
     ]
    },
    {
     "name": "stderr",
     "output_type": "stream",
     "text": [
      "\n",
      "0%....10....20....30....40....50....60....70....80....90....100%\n"
     ]
    },
    {
     "name": "stdout",
     "output_type": "stream",
     "text": [
      "Done.\n",
      "(1920, 1920)\n",
      "Restoring beam shape: 0.1510 arcsec x 0.1013 arcsec (P.A. = -24.7057 deg)\n",
      "Windowing out the central region for computational efficiency\n",
      "Image size of windowed psf: 600\n",
      "Calculating uvtaper parameter\n",
      "Done. Best-fit uvtaper parameter: ['0.27872339340721985arcsec', '0.21465667336199573arcsec', '317.4644103934708deg']\n",
      "Calculating the resulting beam shape after uvtaper\n"
     ]
    },
    {
     "name": "stderr",
     "output_type": "stream",
     "text": [
      "\n",
      "0%....10....20....30....40....50....60....70....80....90....100%\n"
     ]
    },
    {
     "name": "stdout",
     "output_type": "stream",
     "text": [
      "Done.\n",
      "Restoring beam shape after uvtaper: 0.3000 arcsec x 0.2397 arcsec (P.A. = -31.7527 deg)\n",
      "JvM epsilon: 0.9505\n"
     ]
    },
    {
     "name": "stderr",
     "output_type": "stream",
     "text": [
      "\n",
      "0%....10....20....30....40....50....60....70....80....90....100%\n",
      "\n",
      "0%....10....20....30....40....50....60....70....80....90....100%\n",
      "2024-01-27 12:57:48\tWARN\ttask_tclean::SIImageStore::restore (file /source/casa6/casatools/src/code/synthesis/ImagerObjects/SIImageStore.cc, line 2284)\tRestoring with an empty model image. Only residuals will be processed to form the output restored image.\n",
      "....10....20....30....40....50....60....70....80....90....100%\n",
      "....10....20....30....40....50....60....70....80....90....100%\n"
     ]
    },
    {
     "name": "stdout",
     "output_type": "stream",
     "text": [
      "# Estimated RMS of unmasked regions: 1.37 mJy/beam\n",
      "# If there are strong sidelobes this may overestimate the RMS.\n"
     ]
    },
    {
     "name": "stderr",
     "output_type": "stream",
     "text": [
      "\n",
      "0%....10....20....30....40....50....60....70....80....90....100%\n",
      "\n",
      "0%....10....20....30....40....50....60....70....80....90....100%\n",
      "\n",
      "0%....10....20....30....40....50....60....70....80....90....100%\n"
     ]
    },
    {
     "name": "stdout",
     "output_type": "stream",
     "text": [
      "Correcting primary beam response\n",
      "Exporting to FITS\n"
     ]
    }
   ],
   "source": [
    "# first make dirty image and then CLEAN\n",
    "### basic parameters for tclean ###\n",
    "cellsize = \"0.02arcsec\"\n",
    "weighting = \"superuniform\"\n",
    "scales = [0, 10, 30]\n",
    "npixels = 0\n",
    "target_bmaj = 0.3\n",
    "deconvolver = \"multiscale\"\n",
    "spw = \"0\"\n",
    "perchanweightdensity = True\n",
    "max_imsize = 1920\n",
    "\n",
    "### parameters for Keplerian mask ###\n",
    "r_min = 0.25\n",
    "r_max = 2.5\n",
    "zr = 0.0\n",
    "nbeams = 1.5\n",
    "\n",
    "# lines = [\"DCN_4-3\"]\n",
    "for line in lines:\n",
    "    print(\"Processing \" + line)\n",
    "    # first calculate the taper parameter to acheive the desired beams\n",
    "    vis = vispath + f\"{source}_{line}.ms.cvel\"\n",
    "    imagename = impath + f\"{source}_{line}_hybrid\"\n",
    "    if with_cont:\n",
    "        vis = vis.replace(\".ms\", \"_wcont.ms\")\n",
    "        imagename += \"_wcont\"\n",
    "    imsize = utils.get_imsize(\n",
    "        vis=vis,\n",
    "        field=source,\n",
    "        cellsize=cellsize,\n",
    "    )\n",
    "    if imsize > max_imsize:\n",
    "        imsize = max_imsize\n",
    "\n",
    "    for ext in [\".alpha\", \".image\", \".mask\", \".model\", \".pb\", \".psf\", \".residual\", \".sumwt\"]:\n",
    "        if os.path.exists(imagename + ext):\n",
    "            shutil.rmtree(imagename + ext)\n",
    "            \n",
    "    uvtaper = iutils.calc_uvtaper(\n",
    "        vis=vis,\n",
    "        imagename=imagename,\n",
    "        field=source,\n",
    "        specmode=\"cube\",\n",
    "        weighting=weighting,\n",
    "        perchanweightdensity=perchanweightdensity,\n",
    "        npixels=npixels,\n",
    "        cellsize=cellsize,\n",
    "        imsize=imsize,\n",
    "        target_beam=(target_bmaj, target_bmaj * np.cos(np.deg2rad(disk.incl)), disk.PA),\n",
    "    )\n",
    "\n",
    "    for ext in [\".alpha\", \".image\", \".mask\", \".model\", \".pb\", \".psf\", \".residual\", \".sumwt\"]:\n",
    "        if os.path.exists(imagename + ext):\n",
    "            shutil.rmtree(imagename + ext)\n",
    "\n",
    "    casatasks.tclean(\n",
    "        vis=vis,\n",
    "        imagename=imagename,\n",
    "        spw=spw,\n",
    "        specmode=\"cube\",\n",
    "        outframe=\"LSRK\",\n",
    "        veltype=\"radio\",\n",
    "        imsize=imsize,\n",
    "        cell=cellsize,\n",
    "        scales=scales,\n",
    "        weighting=weighting,\n",
    "        perchanweightdensity=perchanweightdensity,\n",
    "        npixels=npixels,\n",
    "        uvtaper=uvtaper,\n",
    "        restoringbeam=\"common\",\n",
    "        niter=0\n",
    "    )\n",
    "\n",
    "    # make mask\n",
    "    rms = make_mask(\n",
    "        imagename=imagename + \".image\",\n",
    "        inc=disk.incl,\n",
    "        PA=disk.PA,\n",
    "        mstar=disk.Mstar,\n",
    "        dist=disk.distance,\n",
    "        vlsr=disk.vsys * 1e3,\n",
    "        nbeams=nbeams,\n",
    "        r_min=r_min,\n",
    "        r_max=r_max,\n",
    "        zr=zr,\n",
    "        restfreqs=line_dict[line][\"freqs\"],\n",
    "        export_FITS=True,\n",
    "        overwrite=True,\n",
    "    )\n",
    "    # shutil.rmtree(imagename + \".mask.image\")\n",
    "\n",
    "    # CLEAN\n",
    "    # rms = utils.calc_sensitivity(\n",
    "    #     vis,\n",
    "    #     cellsize=cellsize,\n",
    "    #     imsize=imsize,\n",
    "    #     weighting=weighting,\n",
    "    #     npixels=npixels,\n",
    "    #     specmode=\"cube\",\n",
    "    #     spw=[spw],\n",
    "    #     chan=int(0.5 * (2 * velocity_range / velocity_width)),\n",
    "    # )\n",
    "\n",
    "    for ext in [\".alpha\", \".image\", \".mask\", \".model\", \".pb\", \".psf\", \".residual\", \".sumwt\"]:\n",
    "        if os.path.exists(imagename + ext):\n",
    "            shutil.rmtree(imagename + ext)\n",
    "\n",
    "    casatasks.tclean(\n",
    "        vis=vis,\n",
    "        imagename=imagename,\n",
    "        spw=spw,\n",
    "        specmode=\"cube\",\n",
    "        outframe=\"LSRK\",\n",
    "        veltype=\"radio\",\n",
    "        imsize=imsize,\n",
    "        cell=cellsize,\n",
    "        scales=scales,\n",
    "        weighting=weighting,\n",
    "        perchanweightdensity=perchanweightdensity,\n",
    "        npixels=npixels,\n",
    "        uvtaper=uvtaper,\n",
    "        restoringbeam=\"common\",\n",
    "        niter=1000000,\n",
    "        threshold=f\"{3*rms}Jy\",\n",
    "        usemask=\"user\",\n",
    "        mask=imagename + \".mask.image\"\n",
    "    )\n",
    "\n",
    "    # pbcor\n",
    "    print(\"Correcting primary beam response\")\n",
    "    casatasks.impbcor(\n",
    "        imagename=imagename + \".image\",\n",
    "        pbimage=imagename + \".pb\",\n",
    "        outfile=imagename + \".image.pbcor\",\n",
    "        overwrite=True,\n",
    "    )\n",
    "\n",
    "    # export fits\n",
    "    print(\"Exporting to FITS\")\n",
    "    for ext in [\".image\", \".image.pbcor\"]:\n",
    "        casatasks.exportfits(\n",
    "            imagename=imagename + ext,\n",
    "            fitsimage=imagename + ext + \".fits\",\n",
    "            dropstokes=True,\n",
    "            overwrite=True,\n",
    "        )"
   ]
  },
  {
   "cell_type": "code",
   "execution_count": null,
   "metadata": {},
   "outputs": [],
   "source": []
  }
 ],
 "metadata": {
  "kernelspec": {
   "display_name": ".venv",
   "language": "python",
   "name": "python3"
  },
  "language_info": {
   "codemirror_mode": {
    "name": "ipython",
    "version": 3
   },
   "file_extension": ".py",
   "mimetype": "text/x-python",
   "name": "python",
   "nbconvert_exporter": "python",
   "pygments_lexer": "ipython3",
   "version": "3.10.5"
  },
  "orig_nbformat": 4
 },
 "nbformat": 4,
 "nbformat_minor": 2
}
