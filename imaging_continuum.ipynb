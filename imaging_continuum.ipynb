{
 "cells": [
  {
   "cell_type": "code",
   "execution_count": 1,
   "metadata": {},
   "outputs": [
    {
     "name": "stdout",
     "output_type": "stream",
     "text": [
      "You appear to be importing analysisUtils into python (not CASA). version =  3.10.5\n",
      "CASAPATH is not defined, so I am skipping a lot of imports\n",
      "Successfully imported `make_mask`.\n"
     ]
    }
   ],
   "source": [
    "import sys\n",
    "sys.path.append(\"/home/yamato/Application/reduction_tools/\")\n",
    "sys.path.append(\"/home/yamato/Application/keplerian_mask/\")\n",
    "import reduction_utils_mpi as utils\n",
    "from keplerian_mask import make_mask\n",
    "import casatasks\n",
    "from linedictionary import line_dict\n",
    "from diskdictionary import disk_dict\n",
    "import shutil\n",
    "import os\n",
    "import analysis_utils as au\n",
    "import matplotlib.pyplot as plt\n",
    "import imaging_utils as iutils\n",
    "import numpy as np\n",
    "\n",
    "%matplotlib widget\n",
    "\n",
    "source = \"MWC_480\"\n",
    "msdir = \"/works/yamato/C2D_disk/v1_product/measurement_set/\"\n",
    "vispath = \"./data/measurement_set/\"\n",
    "impath = \"./data/image/\"\n",
    "ms_list = [msdir + f\"{source}_EB{i+1}_continuum.ms\" for i in range(5)]"
   ]
  },
  {
   "cell_type": "code",
   "execution_count": 7,
   "metadata": {},
   "outputs": [],
   "source": [
    "# combine all continuum measurement sets\n",
    "concatvis = vispath + f\"{source}_continuum.ms\"\n",
    "casatasks.concat(vis=ms_list, concatvis=concatvis)"
   ]
  },
  {
   "cell_type": "code",
   "execution_count": 3,
   "metadata": {},
   "outputs": [
    {
     "name": "stdout",
     "output_type": "stream",
     "text": [
      "Starting to estimate the uvtaper which achieve the target beam of 0.3000 arcsec x 0.2396 arcsec (P.A. = 148.0000 deg)\n",
      "Pixel size: 0.02arcsec\n",
      "Image size: 1728\n",
      "Calculating and fitting PSF with the original weighting scheme (weighting = superuniform)\n"
     ]
    },
    {
     "name": "stderr",
     "output_type": "stream",
     "text": [
      "\n",
      "0%....10....20....30....40....50....60....70....80....90....100%\n"
     ]
    },
    {
     "name": "stdout",
     "output_type": "stream",
     "text": [
      "Done.\n",
      "Restoring beam shape: 0.1815 arcsec x 0.1192 arcsec (P.A. = 0.0534 deg)\n",
      "Windowing out the central region for computational efficiency\n",
      "Image size of windowed psf: 600\n",
      "Calculating uvtaper parameter\n",
      "Done. Best-fit uvtaper parameter: ['0.286846593396618arcsec', '0.23043151604983847arcsec', '141.0040513435651deg']\n",
      "Calculating the resulting beam shape after uvtaper\n"
     ]
    },
    {
     "name": "stderr",
     "output_type": "stream",
     "text": [
      "\n",
      "0%....10....20....30....40....50....60....70....80....90....100%\n"
     ]
    },
    {
     "name": "stdout",
     "output_type": "stream",
     "text": [
      "Done.\n",
      "Restoring beam shape after uvtaper: 0.3000 arcsec x 0.2396 arcsec (P.A. = -32.0099 deg)\n",
      "JvM epsilon: 1.0005\n",
      "Theoretical estimates of image sensitivity\n",
      "# ./data/measurement_set/MWC_480_continuum.ms\n",
      "# specmode = 'mfs'\n",
      "# spw = ''\n",
      "# uvtaper = [0.286846593396618arcsec, 0.23043151604983847arcsec, 141.0040513435651deg]\n",
      "(True, 1.624040334381604e-05, 1.3985476861872201)\n",
      "# Briggs sensitivity with robust = 0.5: 1.624040334381604e-05 Jy\n",
      "# Relative to natural weighting: 1.3985476861872201\n",
      "### Averaged sensitivity over 1 measurement sets: 1.624040334381604e-05 Jy\n"
     ]
    },
    {
     "name": "stderr",
     "output_type": "stream",
     "text": [
      "\n",
      "0%....10....20....30....40....50....60....70....80....90....100%\n",
      "\n",
      "0%....10....20....30....40....50....60....70....80....90....100%\n",
      "\n",
      "0%....10....20....30....40....50....60....70....80....90....100%\n",
      "\n",
      "0%....10....20....30....40....50....60....70....80....90....100%\n",
      "\n",
      "0%....10....20....30....40....50....60....70....80....90....100%\n",
      "\n",
      "0%....10....20....30....40....50....60....70....80....90....100%\n"
     ]
    },
    {
     "data": {
      "text/plain": [
       "{'cleanstate': 'running',\n",
       " 'cyclefactor': 1.0,\n",
       " 'cycleiterdone': 0,\n",
       " 'cycleniter': 100000,\n",
       " 'cyclethreshold': 2.435892156427144e-06,\n",
       " 'interactiveiterdone': 5490,\n",
       " 'interactivemode': False,\n",
       " 'interactiveniter': 0,\n",
       " 'interactivethreshold': 0.0,\n",
       " 'iterdone': 5490,\n",
       " 'loopgain': 0.10000000149011612,\n",
       " 'maxpsffraction': 0.800000011920929,\n",
       " 'maxpsfsidelobe': 0.04470716416835785,\n",
       " 'minpsffraction': 0.05000000074505806,\n",
       " 'niter': 100000,\n",
       " 'nmajordone': 5,\n",
       " 'nsigma': 0.0,\n",
       " 'stopcode': 2,\n",
       " 'summarymajor': array([   0,   55, 1224, 5224, 5490]),\n",
       " 'summaryminor': {0: {0: {0: {'iterDone': [55.0, 1169.0, 4000.0, 266.0],\n",
       "     'peakRes': [0.007106215693056583,\n",
       "      0.00035478500649333,\n",
       "      0.0004624586727004498,\n",
       "      4.871765850111842e-05],\n",
       "     'modelFlux': [0.44499167799949646,\n",
       "      0.5347276329994202,\n",
       "      0.5394614934921265,\n",
       "      0.539538562297821],\n",
       "     'cycleThresh': [0.007184753660112619,\n",
       "      0.00035531038884073496,\n",
       "      4.872120916843414e-05,\n",
       "      4.872120916843414e-05]}}}},\n",
       " 'threshold': 4.872120916843414e-05,\n",
       " 'stopDescription': 'threshold'}"
      ]
     },
     "execution_count": 3,
     "metadata": {},
     "output_type": "execute_result"
    }
   ],
   "source": [
    "# CLEAN\n",
    "vis = vispath + f\"{source}_continuum.ms\"\n",
    "imagename = impath + f\"{source}_continuum_tapered\"\n",
    "cellsize = \"0.02arcsec\"\n",
    "imsize = utils.get_imsize(\n",
    "\tvis=vis,\n",
    "\tfield=source,\n",
    "\tcellsize=cellsize,\n",
    ")\n",
    "scales = [0, 10, 30]\n",
    "weighting = \"superuniform\"\n",
    "deconvolver = \"mtmfs\"\n",
    "nterms = 2\n",
    "npixels = 8\n",
    "target_bmaj = 0.3\n",
    "incl = disk_dict[source][\"incl\"]\n",
    "PA = disk_dict[source][\"PA\"]\n",
    "\n",
    "# elliptical mask\n",
    "mask_semimaj = 2.3\n",
    "disk_mask = \"ellipse[[{:s}, {:s}], [{:.1f}arcsec, {:.1f}arcsec], {:.1f}deg]\".format(\n",
    "\t\"04h58m46.27936s\", \"+29d50m36.398586s\", mask_semimaj, mask_semimaj * np.cos(np.deg2rad(incl)), PA\n",
    ")\n",
    "\n",
    "# get uvtaper parameter to achieve the desired beam\n",
    "uvtaper = iutils.calc_uvtaper(\n",
    "    vis=vis,\n",
    "    imagename=imagename,\n",
    "    field=\"MWC_480\",\n",
    "    specmode=\"mfs\",\n",
    "    weighting=weighting,\n",
    "    npixels=npixels,\n",
    "    cellsize=cellsize,\n",
    "    target_beam=(target_bmaj, target_bmaj * np.cos(np.deg2rad(incl)), PA),\n",
    ")\n",
    "\n",
    "rms = utils.calc_sensitivity(vis, cellsize=cellsize, imsize=imsize, weighting=weighting, uvtaper=uvtaper, npixels=npixels)\n",
    "\n",
    "for ext in [\".alpha*\", \".image*\", \".mask\", \".model*\", \".pb*\", \".psf*\", \".residual*\", \".sumwt*\"]:\n",
    "    os.system(\"rm -r \" + imagename + ext)\n",
    "    \n",
    "casatasks.tclean(\n",
    "    vis=vis,\n",
    "    imagename=imagename,\n",
    "    imsize=imsize,\n",
    "    cell=cellsize,\n",
    "    specmode=\"mfs\",\n",
    "    deconvolver=deconvolver,\n",
    "    scales=scales,\n",
    "    weighting=weighting,\n",
    "    npixels=npixels,\n",
    "    nterms=nterms,\n",
    "    niter=100000,\n",
    "    threshold=f\"{rms*3}Jy\",\n",
    "    usemask=\"user\",\n",
    "    mask=disk_mask,\n",
    "    uvtaper=uvtaper,\n",
    "    # nsigma=3.0\n",
    ")"
   ]
  },
  {
   "cell_type": "code",
   "execution_count": 5,
   "metadata": {},
   "outputs": [],
   "source": [
    "casatasks.imsmooth(\n",
    "    imagename=imagename + \".image.tt0\",\n",
    "    major=\"0.2arcsec\",\n",
    "    minor=\"0.2arcsec\",\n",
    "    pa=\"0deg\",\n",
    "    targetres=True,\n",
    "    outfile=imagename + \".image.tt0.imsmooth\",\n",
    ")"
   ]
  },
  {
   "cell_type": "code",
   "execution_count": 2,
   "metadata": {},
   "outputs": [],
   "source": [
    "casatasks.exportfits(\n",
    "    imagename=\"./data/image/MWC_480_continuum_tapered.image.tt0/\",\n",
    "    fitsimage=\"./data/image/MWC_480_continuum_tapered.image.tt0.fits\",\n",
    "    dropstokes=True,\n",
    "    overwrite=True,\n",
    ")"
   ]
  },
  {
   "cell_type": "code",
   "execution_count": null,
   "metadata": {},
   "outputs": [],
   "source": []
  }
 ],
 "metadata": {
  "kernelspec": {
   "display_name": ".venv",
   "language": "python",
   "name": "python3"
  },
  "language_info": {
   "codemirror_mode": {
    "name": "ipython",
    "version": 3
   },
   "file_extension": ".py",
   "mimetype": "text/x-python",
   "name": "python",
   "nbconvert_exporter": "python",
   "pygments_lexer": "ipython3",
   "version": "3.10.5"
  }
 },
 "nbformat": 4,
 "nbformat_minor": 2
}
